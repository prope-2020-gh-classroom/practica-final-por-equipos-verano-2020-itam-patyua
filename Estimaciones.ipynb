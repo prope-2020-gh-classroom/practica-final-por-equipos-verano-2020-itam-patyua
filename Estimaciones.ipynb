{
 "cells": [
  {
   "cell_type": "code",
   "execution_count": 1,
   "metadata": {},
   "outputs": [],
   "source": [
    "import pandas as pd\n",
    "import numpy as np\n",
    "import matplotlib.pyplot as plt\n",
    "from scipy.interpolate import interp1d\n",
    "from tabulate import tabulate # se debe pegar el siguiente comando en la terminal antes de ejecutar <pip install tabulate> "
   ]
  },
  {
   "cell_type": "markdown",
   "metadata": {},
   "source": [
    "### Descarga de datos"
   ]
  },
  {
   "cell_type": "code",
   "execution_count": 4,
   "metadata": {},
   "outputs": [],
   "source": [
    "violencia_a = pd.read_csv('datos_estimacion_anual.csv')"
   ]
  },
  {
   "cell_type": "code",
   "execution_count": 5,
   "metadata": {},
   "outputs": [
    {
     "data": {
      "text/html": [
       "<div>\n",
       "<style scoped>\n",
       "    .dataframe tbody tr th:only-of-type {\n",
       "        vertical-align: middle;\n",
       "    }\n",
       "\n",
       "    .dataframe tbody tr th {\n",
       "        vertical-align: top;\n",
       "    }\n",
       "\n",
       "    .dataframe thead th {\n",
       "        text-align: right;\n",
       "    }\n",
       "</style>\n",
       "<table border=\"1\" class=\"dataframe\">\n",
       "  <thead>\n",
       "    <tr style=\"text-align: right;\">\n",
       "      <th></th>\n",
       "      <th>Fecha</th>\n",
       "      <th>Carpetas</th>\n",
       "    </tr>\n",
       "  </thead>\n",
       "  <tbody>\n",
       "    <tr>\n",
       "      <th>0</th>\n",
       "      <td>2016</td>\n",
       "      <td>18558</td>\n",
       "    </tr>\n",
       "    <tr>\n",
       "      <th>1</th>\n",
       "      <td>2017</td>\n",
       "      <td>18435</td>\n",
       "    </tr>\n",
       "    <tr>\n",
       "      <th>2</th>\n",
       "      <td>2018</td>\n",
       "      <td>19933</td>\n",
       "    </tr>\n",
       "    <tr>\n",
       "      <th>3</th>\n",
       "      <td>2019</td>\n",
       "      <td>25776</td>\n",
       "    </tr>\n",
       "  </tbody>\n",
       "</table>\n",
       "</div>"
      ],
      "text/plain": [
       "   Fecha  Carpetas\n",
       "0   2016     18558\n",
       "1   2017     18435\n",
       "2   2018     19933\n",
       "3   2019     25776"
      ]
     },
     "execution_count": 5,
     "metadata": {},
     "output_type": "execute_result"
    }
   ],
   "source": [
    "violencia_a"
   ]
  },
  {
   "cell_type": "markdown",
   "metadata": {},
   "source": [
    "### Manipulación de datos "
   ]
  },
  {
   "cell_type": "code",
   "execution_count": 6,
   "metadata": {},
   "outputs": [],
   "source": [
    "v = np.array(violencia_a)"
   ]
  },
  {
   "cell_type": "code",
   "execution_count": 7,
   "metadata": {},
   "outputs": [],
   "source": [
    "x = v[:,0]"
   ]
  },
  {
   "cell_type": "code",
   "execution_count": 8,
   "metadata": {},
   "outputs": [],
   "source": [
    "y = v[:,1]"
   ]
  },
  {
   "cell_type": "code",
   "execution_count": 9,
   "metadata": {},
   "outputs": [
    {
     "data": {
      "text/plain": [
       "array([[ 2016, 18558],\n",
       "       [ 2017, 18435],\n",
       "       [ 2018, 19933],\n",
       "       [ 2019, 25776]])"
      ]
     },
     "execution_count": 9,
     "metadata": {},
     "output_type": "execute_result"
    }
   ],
   "source": [
    "v"
   ]
  },
  {
   "cell_type": "markdown",
   "metadata": {},
   "source": [
    "### Modelos polinomilaes de grado 1, 2 y 3"
   ]
  },
  {
   "cell_type": "code",
   "execution_count": 10,
   "metadata": {},
   "outputs": [],
   "source": [
    "coefficients1 = np.polyfit(x,y,1)"
   ]
  },
  {
   "cell_type": "code",
   "execution_count": 11,
   "metadata": {},
   "outputs": [],
   "source": [
    "coefficients2 = np.polyfit(x,y,2)"
   ]
  },
  {
   "cell_type": "code",
   "execution_count": 12,
   "metadata": {},
   "outputs": [],
   "source": [
    "coefficients3 = np.polyfit(x,y,3)"
   ]
  },
  {
   "cell_type": "markdown",
   "metadata": {},
   "source": [
    "### Splines cúbicos "
   ]
  },
  {
   "cell_type": "code",
   "execution_count": 13,
   "metadata": {},
   "outputs": [],
   "source": [
    "splines = interp1d(x,y,kind = 'cubic')\n",
    "nevals = 10000\n",
    "xevals = np.linspace(min(x),max(x),nevals)\n",
    "yevals = splines(xevals)"
   ]
  },
  {
   "cell_type": "code",
   "execution_count": 14,
   "metadata": {},
   "outputs": [],
   "source": [
    "y_pol_1 = np.polyval(coefficients1, x)\n",
    "y_pol_2 = np.polyval(coefficients2, x)\n",
    "y_pol_3 = np.polyval(coefficients3, x)\n",
    "y_spl = splines(x)"
   ]
  },
  {
   "cell_type": "code",
   "execution_count": 15,
   "metadata": {},
   "outputs": [
    {
     "data": {
      "image/png": "[encoded data removed]",
      "text/plain": [
       "<Figure size 432x288 with 1 Axes>"
      ]
     },
     "metadata": {
      "needs_background": "light"
     },
     "output_type": "display_data"
    }
   ],
   "source": [
    "plt.plot(x, y_pol_1,\n",
    "         x, y_pol_2,\n",
    "         x, y_pol_3,\n",
    "         x, y_spl, 'm',\n",
    "         x, y, 'c^')\n",
    "plt.legend([\"Polinomio grado 1\",\n",
    "           \"Polinomio grado 2\",\n",
    "           \"Polinomio grado 3\",\n",
    "           \"Spline cúbicos\",\n",
    "           \"Datos CdMx\"])\n",
    "plt.title(\"Aproximaciones al número de carpetas de investigación\")\n",
    "plt.rc('grid', linestyle=\"-.\", color='#CCCCCC')\n",
    "plt.grid(True)\n",
    "plt.savefig('Aprox_carpetas.png')\n",
    "plt.show()"
   ]
  },
  {
   "cell_type": "markdown",
   "metadata": {},
   "source": [
    "### Estimaciones para 2020 y 2021"
   ]
  },
  {
   "cell_type": "code",
   "execution_count": 16,
   "metadata": {},
   "outputs": [],
   "source": [
    "x_estim = np.array([2020,2021])"
   ]
  },
  {
   "cell_type": "code",
   "execution_count": 17,
   "metadata": {},
   "outputs": [],
   "source": [
    "y_estim_1 = np.polyval(coefficients1, x_estim)\n",
    "y_estim_2 = np.polyval(coefficients2, x_estim)\n",
    "y_estim_3 = np.polyval(coefficients3, x_estim)\n",
    "f = interp1d(x, y_spl, fill_value='extrapolate')\n",
    "y_estim_spl = f(x_estim)"
   ]
  },
  {
   "cell_type": "code",
   "execution_count": 18,
   "metadata": {},
   "outputs": [],
   "source": [
    "x_eval = np.arange(2016, 2022, 1)"
   ]
  },
  {
   "cell_type": "code",
   "execution_count": 19,
   "metadata": {},
   "outputs": [],
   "source": [
    "y1 = (y_pol_1[0],y_pol_1[1],y_pol_1[2],y_pol_1[3],y_estim_1[0],y_estim_1[1])"
   ]
  },
  {
   "cell_type": "code",
   "execution_count": 20,
   "metadata": {},
   "outputs": [],
   "source": [
    "y2 = (y_pol_2[0],y_pol_2[1],y_pol_2[2],y_pol_2[3],y_estim_2[0],y_estim_2[1])"
   ]
  },
  {
   "cell_type": "code",
   "execution_count": 21,
   "metadata": {},
   "outputs": [],
   "source": [
    "y3 = (y_pol_3[0],y_pol_3[1],y_pol_3[2],y_pol_3[3],y_estim_3[0],y_estim_3[1])"
   ]
  },
  {
   "cell_type": "code",
   "execution_count": 22,
   "metadata": {},
   "outputs": [],
   "source": [
    "splin = (y_spl[0],y_spl[1],y_spl[2],y_spl[3],y_estim_spl[0],y_estim_spl[1])"
   ]
  },
  {
   "cell_type": "code",
   "execution_count": 23,
   "metadata": {},
   "outputs": [
    {
     "data": {
      "image/png": "[encoded data removed]",
      "text/plain": [
       "<Figure size 432x288 with 1 Axes>"
      ]
     },
     "metadata": {
      "needs_background": "light"
     },
     "output_type": "display_data"
    }
   ],
   "source": [
    "plt.plot(x_eval, y1,\n",
    "         x_eval, y2,\n",
    "         x_eval, y3,\n",
    "         x_eval, splin,\n",
    "         x, y, 'o')\n",
    "plt.legend([\"Polinomio grado 1\",\n",
    "           \"Polinomio grado 2\",\n",
    "           \"Polinomio grado 3\",\n",
    "           \"Spline cúbicos\",\n",
    "           \"Datos CdMx\"])\n",
    "plt.rc('grid', linestyle=\"-.\", color='#CCCCCC')\n",
    "plt.grid(True)\n",
    "plt.savefig('Estim_carpetas.png')\n",
    "plt.title(\"Estimaciones carpetas\")\n",
    "plt.show()"
   ]
  },
  {
   "cell_type": "code",
   "execution_count": 24,
   "metadata": {},
   "outputs": [
    {
     "name": "stdout",
     "output_type": "stream",
     "text": [
      "  Año    Polinomio 1º    Polinomio 2º    Polinomio 3º    Spline cúbico\n",
      "-----  --------------  --------------  --------------  ---------------\n",
      " 2020        26463.50        33921.00        38688.00         31619.00\n",
      " 2021        28778.70        45185.20        61392.99         37462.00\n"
     ]
    }
   ],
   "source": [
    "print(tabulate([['2020', y_estim_1[0], y_estim_2[0], y_estim_3[0], y_estim_spl[0]], \n",
    "                ['2021', y_estim_1[1], y_estim_2[1], y_estim_3[1], y_estim_spl[1]]], \n",
    "               headers=['Año', 'Polinomio 1º', 'Polinomio 2º', 'Polinomio 3º', 'Spline cúbico'],\n",
    "              floatfmt=\".2f\"))"
   ]
  },
  {
   "cell_type": "markdown",
   "metadata": {},
   "source": [
    "### Error cuadrático medio "
   ]
  },
  {
   "cell_type": "code",
   "execution_count": 25,
   "metadata": {},
   "outputs": [],
   "source": [
    "def MSE(y, y_hat):\n",
    "    \"\"\"\n",
    "    Compute mean squared error.\n",
    "    See: https://en.wikipedia.org/wiki/Mean_squared_error\n",
    "    Args:\n",
    "        y (numpy 1d array of floats): actual values of data.\n",
    "        y_hat (numpy 1d array of floats): estimated values via model.\n",
    "    Returns:\n",
    "        ecm (float): mean squared error result.\n",
    "    \"\"\"\n",
    "    m = len(y)\n",
    "    error = (y-y_hat)**2\n",
    "    sum_error = sum(error)\n",
    "    ecm = sum_error/m\n",
    "    return ecm"
   ]
  },
  {
   "cell_type": "code",
   "execution_count": 26,
   "metadata": {},
   "outputs": [],
   "source": [
    "MSE_pol_1 = MSE(y, y_pol_1)\n",
    "MSE_pol_2 = MSE(y, y_pol_2)\n",
    "MSE_pol_3 = MSE(y, y_pol_3)\n",
    "MSE_spl = MSE(y, y_spl)"
   ]
  },
  {
   "cell_type": "code",
   "execution_count": 27,
   "metadata": {},
   "outputs": [
    {
     "name": "stdout",
     "output_type": "stream",
     "text": [
      "Error cuadrático medio\n",
      "Modelo              Error cuadrático medio (ECM)\n",
      "-------------  ---------------------------------\n",
      "Polinomio 1º   2317324.4500001268461346626281738\n",
      "Polinomio 2º     92752.1998701095581054687500000\n",
      "Polinomio 3º         0.0000113844871520996093750\n",
      "Spline cúbico        0.0000000000000000000000033\n"
     ]
    }
   ],
   "source": [
    "print('Error cuadrático medio')\n",
    "print(tabulate([['Polinomio 1º', MSE_pol_1], \n",
    "                ['Polinomio 2º', MSE_pol_2],\n",
    "                ['Polinomio 3º', MSE_pol_3],\n",
    "                ['Spline cúbico', MSE_spl] ], \n",
    "               headers=['Modelo', 'Error cuadrático medio (ECM)'],\n",
    "              floatfmt=\".25f\"))"
   ]
  }
 ],
 "metadata": {
  "kernelspec": {
   "display_name": "Python 3",
   "language": "python",
   "name": "python3"
  },
  "language_info": {
   "codemirror_mode": {
    "name": "ipython",
    "version": 3
   },
   "file_extension": ".py",
   "mimetype": "text/x-python",
   "name": "python",
   "nbconvert_exporter": "python",
   "pygments_lexer": "ipython3",
   "version": "3.6.9"
  }
 },
 "nbformat": 4,
 "nbformat_minor": 4
}
