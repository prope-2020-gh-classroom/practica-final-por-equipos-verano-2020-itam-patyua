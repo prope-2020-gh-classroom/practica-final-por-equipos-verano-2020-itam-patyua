{
 "cells": [
  {
   "cell_type": "code",
   "execution_count": 2,
   "metadata": {},
   "outputs": [],
   "source": [
    "# correr desde la terminal el comando <pip install geopandas>\n",
    "# correr desde la terminal el comando <pip install descartes>\n",
    "import os\n",
    "import matplotlib.pyplot as plt\n",
    "import geopandas as gpd\n",
    "import pandas as pd\n",
    "import numpy as np\n",
    "from geopandas import GeoDataFrame as gdf"
   ]
  },
  {
   "cell_type": "markdown",
   "metadata": {},
   "source": [
    "## Descargando base de datos"
   ]
  },
  {
   "cell_type": "code",
   "execution_count": 3,
   "metadata": {},
   "outputs": [
    {
     "name": "stdout",
     "output_type": "stream",
     "text": [
      " \u001b[0m\u001b[01;34mBases_de_datos\u001b[0m/      Mapas.ipynb\n",
      " Descriptivos.ipynb   Minimos_cuadrados_denuncias.ipynb\n",
      " Estimaciones.ipynb   ModelitoPFinal.ipynb\n",
      " LICENSE              README.md\n",
      "'Link base'           scatter_promedios.ipynb\n"
     ]
    }
   ],
   "source": [
    "ls"
   ]
  },
  {
   "cell_type": "code",
   "execution_count": 4,
   "metadata": {},
   "outputs": [
    {
     "name": "stdout",
     "output_type": "stream",
     "text": [
      "/home/jovyan/midirectorio/Bases_de_datos\n"
     ]
    }
   ],
   "source": [
    "cd Bases_de_datos"
   ]
  },
  {
   "cell_type": "code",
   "execution_count": 5,
   "metadata": {},
   "outputs": [
    {
     "name": "stdout",
     "output_type": "stream",
     "text": [
      "Bases_de_datos_modificadas_violencia.ipynb  denuncias_2016_2019_cada_100mil.csv\n",
      "Denuncias_por_alcaldia.csv                  denuncias_al_anio.csv\n",
      "Promedio_denuncias_alcaldia.csv             denuncias_mensuales.csv\n",
      "README.md                                   \u001b[0m\u001b[01;34mshapes\u001b[0m/\n",
      "coord.csv                                   \u001b[01;34mshapes2\u001b[0m/\n",
      "denuncias_2016_2019.csv                     viol_numero_denuncias_ok.csv\n"
     ]
    }
   ],
   "source": [
    "ls"
   ]
  },
  {
   "cell_type": "code",
   "execution_count": 6,
   "metadata": {},
   "outputs": [],
   "source": [
    "coord = pd.read_csv('coord.csv')"
   ]
  },
  {
   "cell_type": "code",
   "execution_count": 7,
   "metadata": {},
   "outputs": [
    {
     "name": "stdout",
     "output_type": "stream",
     "text": [
      "/home/jovyan/midirectorio/Bases_de_datos/shapes\n"
     ]
    }
   ],
   "source": [
    "cd shapes"
   ]
  },
  {
   "cell_type": "code",
   "execution_count": 8,
   "metadata": {},
   "outputs": [
    {
     "name": "stdout",
     "output_type": "stream",
     "text": [
      "coloniascdmx.dbf  coloniascdmx.prj  coloniascdmx.shp  coloniascdmx.shx\n"
     ]
    }
   ],
   "source": [
    "ls"
   ]
  },
  {
   "cell_type": "code",
   "execution_count": 9,
   "metadata": {},
   "outputs": [],
   "source": [
    "colonias = gpd.read_file(\"coloniascdmx.shp\")"
   ]
  },
  {
   "cell_type": "code",
   "execution_count": 12,
   "metadata": {},
   "outputs": [
    {
     "name": "stdout",
     "output_type": "stream",
     "text": [
      "/home/jovyan/midirectorio/Bases_de_datos\n"
     ]
    }
   ],
   "source": [
    "cd .."
   ]
  },
  {
   "cell_type": "code",
   "execution_count": 13,
   "metadata": {},
   "outputs": [
    {
     "name": "stdout",
     "output_type": "stream",
     "text": [
      "Bases_de_datos_modificadas_violencia.ipynb  denuncias_2016_2019_cada_100mil.csv\n",
      "Denuncias_por_alcaldia.csv                  denuncias_al_anio.csv\n",
      "Promedio_denuncias_alcaldia.csv             denuncias_mensuales.csv\n",
      "README.md                                   \u001b[0m\u001b[01;34mshapes\u001b[0m/\n",
      "coord.csv                                   \u001b[01;34mshapes2\u001b[0m/\n",
      "denuncias_2016_2019.csv                     viol_numero_denuncias_ok.csv\n"
     ]
    }
   ],
   "source": [
    "ls"
   ]
  },
  {
   "cell_type": "code",
   "execution_count": 15,
   "metadata": {},
   "outputs": [
    {
     "name": "stdout",
     "output_type": "stream",
     "text": [
      "/home/jovyan/midirectorio/Bases_de_datos/shapes2\n"
     ]
    }
   ],
   "source": [
    "cd shapes2"
   ]
  },
  {
   "cell_type": "code",
   "execution_count": 16,
   "metadata": {},
   "outputs": [
    {
     "name": "stdout",
     "output_type": "stream",
     "text": [
      "alcaldias.dbf  alcaldias.prj  alcaldias.shp  alcaldias.shx\n"
     ]
    }
   ],
   "source": [
    "ls"
   ]
  },
  {
   "cell_type": "code",
   "execution_count": 18,
   "metadata": {},
   "outputs": [],
   "source": [
    "alcaldias = gpd.read_file(\"alcaldias.shp\")"
   ]
  },
  {
   "cell_type": "code",
   "execution_count": null,
   "metadata": {},
   "outputs": [],
   "source": []
  }
 ],
 "metadata": {
  "kernelspec": {
   "display_name": "Python 3",
   "language": "python",
   "name": "python3"
  },
  "language_info": {
   "codemirror_mode": {
    "name": "ipython",
    "version": 3
   },
   "file_extension": ".py",
   "mimetype": "text/x-python",
   "name": "python",
   "nbconvert_exporter": "python",
   "pygments_lexer": "ipython3",
   "version": "3.6.9"
  }
 },
 "nbformat": 4,
 "nbformat_minor": 4
}
