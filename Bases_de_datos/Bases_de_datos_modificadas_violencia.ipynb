{
 "cells": [
  {
   "cell_type": "code",
   "execution_count": 1,
   "metadata": {},
   "outputs": [],
   "source": [
    "#Importar datos con pandas "
   ]
  },
  {
   "cell_type": "code",
   "execution_count": 2,
   "metadata": {},
   "outputs": [],
   "source": [
    "import pandas as pd"
   ]
  },
  {
   "cell_type": "code",
   "execution_count": 3,
   "metadata": {},
   "outputs": [],
   "source": [
    "df= pd.read_csv(\"Vio_fam_2.csv\")"
   ]
  },
  {
   "cell_type": "code",
   "execution_count": 4,
   "metadata": {},
   "outputs": [
    {
     "name": "stdout",
     "output_type": "stream",
     "text": [
      "               delito alcaldia_hechos  ao_inicio mes_inicio\n",
      "0  VIOLENCIA FAMILIAR  ALVARO OBREGON       2016      Enero\n",
      "1  VIOLENCIA FAMILIAR  ALVARO OBREGON       2016      Enero\n",
      "2  VIOLENCIA FAMILIAR  ALVARO OBREGON       2016      Enero\n",
      "3  VIOLENCIA FAMILIAR  ALVARO OBREGON       2016      Enero\n",
      "4  VIOLENCIA FAMILIAR  ALVARO OBREGON       2016      Enero\n"
     ]
    }
   ],
   "source": [
    "print(df.head(5))"
   ]
  },
  {
   "cell_type": "code",
   "execution_count": 5,
   "metadata": {},
   "outputs": [
    {
     "data": {
      "text/plain": [
       "Index(['delito', 'alcaldia_hechos', 'ao_inicio', 'mes_inicio'], dtype='object')"
      ]
     },
     "execution_count": 5,
     "metadata": {},
     "output_type": "execute_result"
    }
   ],
   "source": [
    "df.columns"
   ]
  },
  {
   "cell_type": "code",
   "execution_count": 6,
   "metadata": {},
   "outputs": [
    {
     "name": "stdout",
     "output_type": "stream",
     "text": [
      "0    ALVARO OBREGON\n",
      "1    ALVARO OBREGON\n",
      "2    ALVARO OBREGON\n",
      "3    ALVARO OBREGON\n",
      "Name: alcaldia_hechos, dtype: object\n"
     ]
    }
   ],
   "source": [
    "print(df.head(4)[\"alcaldia_hechos\"])"
   ]
  },
  {
   "cell_type": "code",
   "execution_count": 7,
   "metadata": {},
   "outputs": [],
   "source": [
    "array_anio= df.ao_inicio.unique()"
   ]
  },
  {
   "cell_type": "code",
   "execution_count": 8,
   "metadata": {},
   "outputs": [],
   "source": [
    "anio = array_anio.tolist()"
   ]
  },
  {
   "cell_type": "code",
   "execution_count": 9,
   "metadata": {},
   "outputs": [
    {
     "name": "stdout",
     "output_type": "stream",
     "text": [
      "[2016, 2017, 2018, 2019, 2020]\n"
     ]
    },
    {
     "data": {
      "text/plain": [
       "list"
      ]
     },
     "execution_count": 9,
     "metadata": {},
     "output_type": "execute_result"
    }
   ],
   "source": [
    "print(anio)\n",
    "type(anio)"
   ]
  },
  {
   "cell_type": "code",
   "execution_count": 10,
   "metadata": {},
   "outputs": [],
   "source": [
    "array_alcaldia=df.alcaldia_hechos.unique()"
   ]
  },
  {
   "cell_type": "code",
   "execution_count": 11,
   "metadata": {},
   "outputs": [],
   "source": [
    "alcaldia=array_alcaldia.tolist()"
   ]
  },
  {
   "cell_type": "code",
   "execution_count": 12,
   "metadata": {},
   "outputs": [
    {
     "name": "stdout",
     "output_type": "stream",
     "text": [
      "['ALVARO OBREGON', 'AZCAPOTZALCO', 'BENITO JUAREZ', 'COYOACAN', 'CUAJIMALPA DE MORELOS', 'CUAUHTEMOC', 'GUSTAVO A MADERO', 'IZTACALCO', 'IZTAPALAPA', 'LA MAGDALENA CONTRERAS', 'MIGUEL HIDALGO', 'MILPA ALTA', 'TLAHUAC', 'TLALPAN', 'VENUSTIANO CARRANZA', 'XOCHIMILCO']\n"
     ]
    },
    {
     "data": {
      "text/plain": [
       "list"
      ]
     },
     "execution_count": 12,
     "metadata": {},
     "output_type": "execute_result"
    }
   ],
   "source": [
    "print(alcaldia)\n",
    "type(alcaldia)"
   ]
  },
  {
   "cell_type": "code",
   "execution_count": 13,
   "metadata": {},
   "outputs": [],
   "source": [
    "array_mes=df.mes_inicio.unique()"
   ]
  },
  {
   "cell_type": "code",
   "execution_count": 14,
   "metadata": {},
   "outputs": [],
   "source": [
    "mes=array_mes.tolist()"
   ]
  },
  {
   "cell_type": "code",
   "execution_count": 15,
   "metadata": {},
   "outputs": [
    {
     "name": "stdout",
     "output_type": "stream",
     "text": [
      "['Enero', 'Febrero', 'Marzo', 'Abril', 'Mayo', 'Junio', 'Julio', 'Agosto', 'Septiembre', 'Octubre', 'Noviembre', 'Diciembre']\n"
     ]
    },
    {
     "data": {
      "text/plain": [
       "list"
      ]
     },
     "execution_count": 15,
     "metadata": {},
     "output_type": "execute_result"
    }
   ],
   "source": [
    "print(mes)\n",
    "type(mes)"
   ]
  },
  {
   "cell_type": "code",
   "execution_count": 16,
   "metadata": {},
   "outputs": [],
   "source": [
    "#trato de hacer un loop que me construya un nuevo data frame:\n",
    "\n",
    "\n"
   ]
  },
  {
   "cell_type": "code",
   "execution_count": 17,
   "metadata": {},
   "outputs": [],
   "source": [
    "## TO LIST: \n",
    "\n",
    "mes=array_mes.tolist()\n",
    "anio = array_anio.tolist()\n",
    "alcaldia=array_alcaldia.tolist()\n"
   ]
  },
  {
   "cell_type": "code",
   "execution_count": 18,
   "metadata": {},
   "outputs": [],
   "source": [
    "datos=()\n",
    "datos_totales=[]\n",
    "\n",
    "a=0\n",
    "an=0\n",
    "m=0\n",
    "for a in range(16):\n",
    "    for an in range (5):\n",
    "        for m in range(12):\n",
    "            contar=df.loc[(df.alcaldia_hechos==alcaldia[a]) &(df.ao_inicio==anio[an])& (df.mes_inicio==mes[m])].count()\n",
    "            numero_denuncias=int(contar[\"delito\"])\n",
    "            alcaldia2=alcaldia[a]\n",
    "            anio2=anio[an]\n",
    "            mes2=mes[m]\n",
    "            datos=(anio2,mes2,alcaldia2,numero_denuncias)\n",
    "            datos_totales.append(datos)\n",
    "            #print(alcaldia[a],mes[m],anio[an],numero_denuncias)\n",
    "            #df3=pd.DataFrame(columns=[\"anio\",\"mes\",\"alcaldia\",\"numero_denuncias\"], data=[(anio2,mes2,alcaldia2,numero_denuncias)])\n",
    "            #df2.append(df3)\n",
    "            m+=1\n",
    "    an+=1\n",
    "a+=1"
   ]
  },
  {
   "cell_type": "code",
   "execution_count": 19,
   "metadata": {},
   "outputs": [
    {
     "name": "stdout",
     "output_type": "stream",
     "text": [
      "[(2016, 'Enero', 'ALVARO OBREGON', 86), (2016, 'Febrero', 'ALVARO OBREGON', 110), (2016, 'Marzo', 'ALVARO OBREGON', 89), (2016, 'Abril', 'ALVARO OBREGON', 110), (2016, 'Mayo', 'ALVARO OBREGON', 135), (2016, 'Junio', 'ALVARO OBREGON', 134), (2016, 'Julio', 'ALVARO OBREGON', 118), (2016, 'Agosto', 'ALVARO OBREGON', 126), (2016, 'Septiembre', 'ALVARO OBREGON', 121), (2016, 'Octubre', 'ALVARO OBREGON', 105), (2016, 'Noviembre', 'ALVARO OBREGON', 88), (2016, 'Diciembre', 'ALVARO OBREGON', 108), (2017, 'Enero', 'ALVARO OBREGON', 99), (2017, 'Febrero', 'ALVARO OBREGON', 81), (2017, 'Marzo', 'ALVARO OBREGON', 110), (2017, 'Abril', 'ALVARO OBREGON', 95), (2017, 'Mayo', 'ALVARO OBREGON', 110), (2017, 'Junio', 'ALVARO OBREGON', 116), (2017, 'Julio', 'ALVARO OBREGON', 96), (2017, 'Agosto', 'ALVARO OBREGON', 118), (2017, 'Septiembre', 'ALVARO OBREGON', 78), (2017, 'Octubre', 'ALVARO OBREGON', 112), (2017, 'Noviembre', 'ALVARO OBREGON', 99), (2017, 'Diciembre', 'ALVARO OBREGON', 110), (2018, 'Enero', 'ALVARO OBREGON', 89), (2018, 'Febrero', 'ALVARO OBREGON', 120), (2018, 'Marzo', 'ALVARO OBREGON', 139), (2018, 'Abril', 'ALVARO OBREGON', 133), (2018, 'Mayo', 'ALVARO OBREGON', 106), (2018, 'Junio', 'ALVARO OBREGON', 127), (2018, 'Julio', 'ALVARO OBREGON', 139), (2018, 'Agosto', 'ALVARO OBREGON', 155), (2018, 'Septiembre', 'ALVARO OBREGON', 147), (2018, 'Octubre', 'ALVARO OBREGON', 123), (2018, 'Noviembre', 'ALVARO OBREGON', 142), (2018, 'Diciembre', 'ALVARO OBREGON', 123), (2019, 'Enero', 'ALVARO OBREGON', 143), (2019, 'Febrero', 'ALVARO OBREGON', 157), (2019, 'Marzo', 'ALVARO OBREGON', 178), (2019, 'Abril', 'ALVARO OBREGON', 181), (2019, 'Mayo', 'ALVARO OBREGON', 202), (2019, 'Junio', 'ALVARO OBREGON', 144), (2019, 'Julio', 'ALVARO OBREGON', 155), (2019, 'Agosto', 'ALVARO OBREGON', 192), (2019, 'Septiembre', 'ALVARO OBREGON', 181), (2019, 'Octubre', 'ALVARO OBREGON', 151), (2019, 'Noviembre', 'ALVARO OBREGON', 167), (2019, 'Diciembre', 'ALVARO OBREGON', 182), (2020, 'Enero', 'ALVARO OBREGON', 155), (2020, 'Febrero', 'ALVARO OBREGON', 183), (2020, 'Marzo', 'ALVARO OBREGON', 178), (2020, 'Abril', 'ALVARO OBREGON', 144), (2020, 'Mayo', 'ALVARO OBREGON', 115), (2020, 'Junio', 'ALVARO OBREGON', 0), (2020, 'Julio', 'ALVARO OBREGON', 0), (2020, 'Agosto', 'ALVARO OBREGON', 0), (2020, 'Septiembre', 'ALVARO OBREGON', 0), (2020, 'Octubre', 'ALVARO OBREGON', 0), (2020, 'Noviembre', 'ALVARO OBREGON', 0), (2020, 'Diciembre', 'ALVARO OBREGON', 0), (2016, 'Enero', 'AZCAPOTZALCO', 68), (2016, 'Febrero', 'AZCAPOTZALCO', 65), (2016, 'Marzo', 'AZCAPOTZALCO', 88), (2016, 'Abril', 'AZCAPOTZALCO', 86), (2016, 'Mayo', 'AZCAPOTZALCO', 81), (2016, 'Junio', 'AZCAPOTZALCO', 67), (2016, 'Julio', 'AZCAPOTZALCO', 58), (2016, 'Agosto', 'AZCAPOTZALCO', 65), (2016, 'Septiembre', 'AZCAPOTZALCO', 68), (2016, 'Octubre', 'AZCAPOTZALCO', 61), (2016, 'Noviembre', 'AZCAPOTZALCO', 50), (2016, 'Diciembre', 'AZCAPOTZALCO', 37), (2017, 'Enero', 'AZCAPOTZALCO', 69), (2017, 'Febrero', 'AZCAPOTZALCO', 68), (2017, 'Marzo', 'AZCAPOTZALCO', 74), (2017, 'Abril', 'AZCAPOTZALCO', 83), (2017, 'Mayo', 'AZCAPOTZALCO', 76), (2017, 'Junio', 'AZCAPOTZALCO', 63), (2017, 'Julio', 'AZCAPOTZALCO', 67), (2017, 'Agosto', 'AZCAPOTZALCO', 65), (2017, 'Septiembre', 'AZCAPOTZALCO', 65), (2017, 'Octubre', 'AZCAPOTZALCO', 50), (2017, 'Noviembre', 'AZCAPOTZALCO', 74), (2017, 'Diciembre', 'AZCAPOTZALCO', 70), (2018, 'Enero', 'AZCAPOTZALCO', 64), (2018, 'Febrero', 'AZCAPOTZALCO', 77), (2018, 'Marzo', 'AZCAPOTZALCO', 88), (2018, 'Abril', 'AZCAPOTZALCO', 87), (2018, 'Mayo', 'AZCAPOTZALCO', 107), (2018, 'Junio', 'AZCAPOTZALCO', 57), (2018, 'Julio', 'AZCAPOTZALCO', 76), (2018, 'Agosto', 'AZCAPOTZALCO', 62), (2018, 'Septiembre', 'AZCAPOTZALCO', 81), (2018, 'Octubre', 'AZCAPOTZALCO', 75), (2018, 'Noviembre', 'AZCAPOTZALCO', 74), (2018, 'Diciembre', 'AZCAPOTZALCO', 70), (2019, 'Enero', 'AZCAPOTZALCO', 77), (2019, 'Febrero', 'AZCAPOTZALCO', 86), (2019, 'Marzo', 'AZCAPOTZALCO', 96), (2019, 'Abril', 'AZCAPOTZALCO', 106), (2019, 'Mayo', 'AZCAPOTZALCO', 108), (2019, 'Junio', 'AZCAPOTZALCO', 107), (2019, 'Julio', 'AZCAPOTZALCO', 112), (2019, 'Agosto', 'AZCAPOTZALCO', 128), (2019, 'Septiembre', 'AZCAPOTZALCO', 111), (2019, 'Octubre', 'AZCAPOTZALCO', 107), (2019, 'Noviembre', 'AZCAPOTZALCO', 92), (2019, 'Diciembre', 'AZCAPOTZALCO', 122), (2020, 'Enero', 'AZCAPOTZALCO', 132), (2020, 'Febrero', 'AZCAPOTZALCO', 137), (2020, 'Marzo', 'AZCAPOTZALCO', 143), (2020, 'Abril', 'AZCAPOTZALCO', 97), (2020, 'Mayo', 'AZCAPOTZALCO', 88), (2020, 'Junio', 'AZCAPOTZALCO', 0), (2020, 'Julio', 'AZCAPOTZALCO', 0), (2020, 'Agosto', 'AZCAPOTZALCO', 0), (2020, 'Septiembre', 'AZCAPOTZALCO', 0), (2020, 'Octubre', 'AZCAPOTZALCO', 0), (2020, 'Noviembre', 'AZCAPOTZALCO', 0), (2020, 'Diciembre', 'AZCAPOTZALCO', 0), (2016, 'Enero', 'BENITO JUAREZ', 48), (2016, 'Febrero', 'BENITO JUAREZ', 49), (2016, 'Marzo', 'BENITO JUAREZ', 62), (2016, 'Abril', 'BENITO JUAREZ', 69), (2016, 'Mayo', 'BENITO JUAREZ', 82), (2016, 'Junio', 'BENITO JUAREZ', 57), (2016, 'Julio', 'BENITO JUAREZ', 69), (2016, 'Agosto', 'BENITO JUAREZ', 68), (2016, 'Septiembre', 'BENITO JUAREZ', 58), (2016, 'Octubre', 'BENITO JUAREZ', 60), (2016, 'Noviembre', 'BENITO JUAREZ', 54), (2016, 'Diciembre', 'BENITO JUAREZ', 53), (2017, 'Enero', 'BENITO JUAREZ', 52), (2017, 'Febrero', 'BENITO JUAREZ', 43), (2017, 'Marzo', 'BENITO JUAREZ', 80), (2017, 'Abril', 'BENITO JUAREZ', 44), (2017, 'Mayo', 'BENITO JUAREZ', 67), (2017, 'Junio', 'BENITO JUAREZ', 81), (2017, 'Julio', 'BENITO JUAREZ', 63), (2017, 'Agosto', 'BENITO JUAREZ', 61), (2017, 'Septiembre', 'BENITO JUAREZ', 59), (2017, 'Octubre', 'BENITO JUAREZ', 76), (2017, 'Noviembre', 'BENITO JUAREZ', 66), (2017, 'Diciembre', 'BENITO JUAREZ', 71), (2018, 'Enero', 'BENITO JUAREZ', 72), (2018, 'Febrero', 'BENITO JUAREZ', 51), (2018, 'Marzo', 'BENITO JUAREZ', 72), (2018, 'Abril', 'BENITO JUAREZ', 94), (2018, 'Mayo', 'BENITO JUAREZ', 72), (2018, 'Junio', 'BENITO JUAREZ', 67), (2018, 'Julio', 'BENITO JUAREZ', 63), (2018, 'Agosto', 'BENITO JUAREZ', 64), (2018, 'Septiembre', 'BENITO JUAREZ', 69), (2018, 'Octubre', 'BENITO JUAREZ', 81), (2018, 'Noviembre', 'BENITO JUAREZ', 70), (2018, 'Diciembre', 'BENITO JUAREZ', 75), (2019, 'Enero', 'BENITO JUAREZ', 74), (2019, 'Febrero', 'BENITO JUAREZ', 76), (2019, 'Marzo', 'BENITO JUAREZ', 93), (2019, 'Abril', 'BENITO JUAREZ', 85), (2019, 'Mayo', 'BENITO JUAREZ', 88), (2019, 'Junio', 'BENITO JUAREZ', 74), (2019, 'Julio', 'BENITO JUAREZ', 61), (2019, 'Agosto', 'BENITO JUAREZ', 74), (2019, 'Septiembre', 'BENITO JUAREZ', 77), (2019, 'Octubre', 'BENITO JUAREZ', 94), (2019, 'Noviembre', 'BENITO JUAREZ', 76), (2019, 'Diciembre', 'BENITO JUAREZ', 99), (2020, 'Enero', 'BENITO JUAREZ', 71), (2020, 'Febrero', 'BENITO JUAREZ', 88), (2020, 'Marzo', 'BENITO JUAREZ', 88), (2020, 'Abril', 'BENITO JUAREZ', 60), (2020, 'Mayo', 'BENITO JUAREZ', 46), (2020, 'Junio', 'BENITO JUAREZ', 0), (2020, 'Julio', 'BENITO JUAREZ', 0), (2020, 'Agosto', 'BENITO JUAREZ', 0), (2020, 'Septiembre', 'BENITO JUAREZ', 0), (2020, 'Octubre', 'BENITO JUAREZ', 0), (2020, 'Noviembre', 'BENITO JUAREZ', 0), (2020, 'Diciembre', 'BENITO JUAREZ', 0), (2016, 'Enero', 'COYOACAN', 84), (2016, 'Febrero', 'COYOACAN', 132), (2016, 'Marzo', 'COYOACAN', 110), (2016, 'Abril', 'COYOACAN', 140), (2016, 'Mayo', 'COYOACAN', 137), (2016, 'Junio', 'COYOACAN', 125), (2016, 'Julio', 'COYOACAN', 92), (2016, 'Agosto', 'COYOACAN', 109), (2016, 'Septiembre', 'COYOACAN', 86), (2016, 'Octubre', 'COYOACAN', 99), (2016, 'Noviembre', 'COYOACAN', 77), (2016, 'Diciembre', 'COYOACAN', 85), (2017, 'Enero', 'COYOACAN', 79), (2017, 'Febrero', 'COYOACAN', 97), (2017, 'Marzo', 'COYOACAN', 102), (2017, 'Abril', 'COYOACAN', 95), (2017, 'Mayo', 'COYOACAN', 120), (2017, 'Junio', 'COYOACAN', 105), (2017, 'Julio', 'COYOACAN', 97), (2017, 'Agosto', 'COYOACAN', 119), (2017, 'Septiembre', 'COYOACAN', 92), (2017, 'Octubre', 'COYOACAN', 93), (2017, 'Noviembre', 'COYOACAN', 89), (2017, 'Diciembre', 'COYOACAN', 96), (2018, 'Enero', 'COYOACAN', 83), (2018, 'Febrero', 'COYOACAN', 111), (2018, 'Marzo', 'COYOACAN', 131), (2018, 'Abril', 'COYOACAN', 134), (2018, 'Mayo', 'COYOACAN', 129), (2018, 'Junio', 'COYOACAN', 99), (2018, 'Julio', 'COYOACAN', 120), (2018, 'Agosto', 'COYOACAN', 111), (2018, 'Septiembre', 'COYOACAN', 112), (2018, 'Octubre', 'COYOACAN', 122), (2018, 'Noviembre', 'COYOACAN', 108), (2018, 'Diciembre', 'COYOACAN', 85), (2019, 'Enero', 'COYOACAN', 112), (2019, 'Febrero', 'COYOACAN', 122), (2019, 'Marzo', 'COYOACAN', 131), (2019, 'Abril', 'COYOACAN', 143), (2019, 'Mayo', 'COYOACAN', 162), (2019, 'Junio', 'COYOACAN', 116), (2019, 'Julio', 'COYOACAN', 145), (2019, 'Agosto', 'COYOACAN', 147), (2019, 'Septiembre', 'COYOACAN', 156), (2019, 'Octubre', 'COYOACAN', 136), (2019, 'Noviembre', 'COYOACAN', 137), (2019, 'Diciembre', 'COYOACAN', 114), (2020, 'Enero', 'COYOACAN', 146), (2020, 'Febrero', 'COYOACAN', 149), (2020, 'Marzo', 'COYOACAN', 179), (2020, 'Abril', 'COYOACAN', 129), (2020, 'Mayo', 'COYOACAN', 101), (2020, 'Junio', 'COYOACAN', 0), (2020, 'Julio', 'COYOACAN', 0), (2020, 'Agosto', 'COYOACAN', 0), (2020, 'Septiembre', 'COYOACAN', 0), (2020, 'Octubre', 'COYOACAN', 0), (2020, 'Noviembre', 'COYOACAN', 0), (2020, 'Diciembre', 'COYOACAN', 0), (2016, 'Enero', 'CUAJIMALPA DE MORELOS', 21), (2016, 'Febrero', 'CUAJIMALPA DE MORELOS', 16), (2016, 'Marzo', 'CUAJIMALPA DE MORELOS', 20), (2016, 'Abril', 'CUAJIMALPA DE MORELOS', 31), (2016, 'Mayo', 'CUAJIMALPA DE MORELOS', 20), (2016, 'Junio', 'CUAJIMALPA DE MORELOS', 29), (2016, 'Julio', 'CUAJIMALPA DE MORELOS', 19), (2016, 'Agosto', 'CUAJIMALPA DE MORELOS', 25), (2016, 'Septiembre', 'CUAJIMALPA DE MORELOS', 26), (2016, 'Octubre', 'CUAJIMALPA DE MORELOS', 28), (2016, 'Noviembre', 'CUAJIMALPA DE MORELOS', 25), (2016, 'Diciembre', 'CUAJIMALPA DE MORELOS', 20), (2017, 'Enero', 'CUAJIMALPA DE MORELOS', 17), (2017, 'Febrero', 'CUAJIMALPA DE MORELOS', 26), (2017, 'Marzo', 'CUAJIMALPA DE MORELOS', 21), (2017, 'Abril', 'CUAJIMALPA DE MORELOS', 23), (2017, 'Mayo', 'CUAJIMALPA DE MORELOS', 20), (2017, 'Junio', 'CUAJIMALPA DE MORELOS', 31), (2017, 'Julio', 'CUAJIMALPA DE MORELOS', 23), (2017, 'Agosto', 'CUAJIMALPA DE MORELOS', 24), (2017, 'Septiembre', 'CUAJIMALPA DE MORELOS', 23), (2017, 'Octubre', 'CUAJIMALPA DE MORELOS', 27), (2017, 'Noviembre', 'CUAJIMALPA DE MORELOS', 27), (2017, 'Diciembre', 'CUAJIMALPA DE MORELOS', 27), (2018, 'Enero', 'CUAJIMALPA DE MORELOS', 32), (2018, 'Febrero', 'CUAJIMALPA DE MORELOS', 18), (2018, 'Marzo', 'CUAJIMALPA DE MORELOS', 32), (2018, 'Abril', 'CUAJIMALPA DE MORELOS', 31), (2018, 'Mayo', 'CUAJIMALPA DE MORELOS', 42), (2018, 'Junio', 'CUAJIMALPA DE MORELOS', 36), (2018, 'Julio', 'CUAJIMALPA DE MORELOS', 32), (2018, 'Agosto', 'CUAJIMALPA DE MORELOS', 26), (2018, 'Septiembre', 'CUAJIMALPA DE MORELOS', 22), (2018, 'Octubre', 'CUAJIMALPA DE MORELOS', 32), (2018, 'Noviembre', 'CUAJIMALPA DE MORELOS', 39), (2018, 'Diciembre', 'CUAJIMALPA DE MORELOS', 30), (2019, 'Enero', 'CUAJIMALPA DE MORELOS', 34), (2019, 'Febrero', 'CUAJIMALPA DE MORELOS', 28), (2019, 'Marzo', 'CUAJIMALPA DE MORELOS', 48), (2019, 'Abril', 'CUAJIMALPA DE MORELOS', 34), (2019, 'Mayo', 'CUAJIMALPA DE MORELOS', 62), (2019, 'Junio', 'CUAJIMALPA DE MORELOS', 48), (2019, 'Julio', 'CUAJIMALPA DE MORELOS', 48), (2019, 'Agosto', 'CUAJIMALPA DE MORELOS', 43), (2019, 'Septiembre', 'CUAJIMALPA DE MORELOS', 39), (2019, 'Octubre', 'CUAJIMALPA DE MORELOS', 53), (2019, 'Noviembre', 'CUAJIMALPA DE MORELOS', 58), (2019, 'Diciembre', 'CUAJIMALPA DE MORELOS', 56), (2020, 'Enero', 'CUAJIMALPA DE MORELOS', 43), (2020, 'Febrero', 'CUAJIMALPA DE MORELOS', 49), (2020, 'Marzo', 'CUAJIMALPA DE MORELOS', 56), (2020, 'Abril', 'CUAJIMALPA DE MORELOS', 24), (2020, 'Mayo', 'CUAJIMALPA DE MORELOS', 26), (2020, 'Junio', 'CUAJIMALPA DE MORELOS', 0), (2020, 'Julio', 'CUAJIMALPA DE MORELOS', 0), (2020, 'Agosto', 'CUAJIMALPA DE MORELOS', 0), (2020, 'Septiembre', 'CUAJIMALPA DE MORELOS', 0), (2020, 'Octubre', 'CUAJIMALPA DE MORELOS', 0), (2020, 'Noviembre', 'CUAJIMALPA DE MORELOS', 0), (2020, 'Diciembre', 'CUAJIMALPA DE MORELOS', 0), (2016, 'Enero', 'CUAUHTEMOC', 134), (2016, 'Febrero', 'CUAUHTEMOC', 132), (2016, 'Marzo', 'CUAUHTEMOC', 116), (2016, 'Abril', 'CUAUHTEMOC', 151), (2016, 'Mayo', 'CUAUHTEMOC', 126), (2016, 'Junio', 'CUAUHTEMOC', 174), (2016, 'Julio', 'CUAUHTEMOC', 113), (2016, 'Agosto', 'CUAUHTEMOC', 130), (2016, 'Septiembre', 'CUAUHTEMOC', 111), (2016, 'Octubre', 'CUAUHTEMOC', 127), (2016, 'Noviembre', 'CUAUHTEMOC', 89), (2016, 'Diciembre', 'CUAUHTEMOC', 118), (2017, 'Enero', 'CUAUHTEMOC', 117), (2017, 'Febrero', 'CUAUHTEMOC', 84), (2017, 'Marzo', 'CUAUHTEMOC', 133), (2017, 'Abril', 'CUAUHTEMOC', 120), (2017, 'Mayo', 'CUAUHTEMOC', 142), (2017, 'Junio', 'CUAUHTEMOC', 124), (2017, 'Julio', 'CUAUHTEMOC', 123), (2017, 'Agosto', 'CUAUHTEMOC', 134), (2017, 'Septiembre', 'CUAUHTEMOC', 111), (2017, 'Octubre', 'CUAUHTEMOC', 108), (2017, 'Noviembre', 'CUAUHTEMOC', 109), (2017, 'Diciembre', 'CUAUHTEMOC', 95), (2018, 'Enero', 'CUAUHTEMOC', 118), (2018, 'Febrero', 'CUAUHTEMOC', 129), (2018, 'Marzo', 'CUAUHTEMOC', 162), (2018, 'Abril', 'CUAUHTEMOC', 147), (2018, 'Mayo', 'CUAUHTEMOC', 133), (2018, 'Junio', 'CUAUHTEMOC', 143), (2018, 'Julio', 'CUAUHTEMOC', 166), (2018, 'Agosto', 'CUAUHTEMOC', 138), (2018, 'Septiembre', 'CUAUHTEMOC', 170), (2018, 'Octubre', 'CUAUHTEMOC', 140), (2018, 'Noviembre', 'CUAUHTEMOC', 163), (2018, 'Diciembre', 'CUAUHTEMOC', 101), (2019, 'Enero', 'CUAUHTEMOC', 137), (2019, 'Febrero', 'CUAUHTEMOC', 151), (2019, 'Marzo', 'CUAUHTEMOC', 189), (2019, 'Abril', 'CUAUHTEMOC', 176), (2019, 'Mayo', 'CUAUHTEMOC', 181), (2019, 'Junio', 'CUAUHTEMOC', 184), (2019, 'Julio', 'CUAUHTEMOC', 169), (2019, 'Agosto', 'CUAUHTEMOC', 208), (2019, 'Septiembre', 'CUAUHTEMOC', 184), (2019, 'Octubre', 'CUAUHTEMOC', 177), (2019, 'Noviembre', 'CUAUHTEMOC', 210), (2019, 'Diciembre', 'CUAUHTEMOC', 188), (2020, 'Enero', 'CUAUHTEMOC', 158), (2020, 'Febrero', 'CUAUHTEMOC', 207), (2020, 'Marzo', 'CUAUHTEMOC', 205), (2020, 'Abril', 'CUAUHTEMOC', 122), (2020, 'Mayo', 'CUAUHTEMOC', 112), (2020, 'Junio', 'CUAUHTEMOC', 0), (2020, 'Julio', 'CUAUHTEMOC', 0), (2020, 'Agosto', 'CUAUHTEMOC', 0), (2020, 'Septiembre', 'CUAUHTEMOC', 0), (2020, 'Octubre', 'CUAUHTEMOC', 0), (2020, 'Noviembre', 'CUAUHTEMOC', 0), (2020, 'Diciembre', 'CUAUHTEMOC', 0), (2016, 'Enero', 'GUSTAVO A MADERO', 148), (2016, 'Febrero', 'GUSTAVO A MADERO', 158), (2016, 'Marzo', 'GUSTAVO A MADERO', 156), (2016, 'Abril', 'GUSTAVO A MADERO', 204), (2016, 'Mayo', 'GUSTAVO A MADERO', 203), (2016, 'Junio', 'GUSTAVO A MADERO', 198), (2016, 'Julio', 'GUSTAVO A MADERO', 138), (2016, 'Agosto', 'GUSTAVO A MADERO', 148), (2016, 'Septiembre', 'GUSTAVO A MADERO', 156), (2016, 'Octubre', 'GUSTAVO A MADERO', 141), (2016, 'Noviembre', 'GUSTAVO A MADERO', 153), (2016, 'Diciembre', 'GUSTAVO A MADERO', 131), (2017, 'Enero', 'GUSTAVO A MADERO', 137), (2017, 'Febrero', 'GUSTAVO A MADERO', 139), (2017, 'Marzo', 'GUSTAVO A MADERO', 157), (2017, 'Abril', 'GUSTAVO A MADERO', 171), (2017, 'Mayo', 'GUSTAVO A MADERO', 162), (2017, 'Junio', 'GUSTAVO A MADERO', 219), (2017, 'Julio', 'GUSTAVO A MADERO', 151), (2017, 'Agosto', 'GUSTAVO A MADERO', 171), (2017, 'Septiembre', 'GUSTAVO A MADERO', 182), (2017, 'Octubre', 'GUSTAVO A MADERO', 202), (2017, 'Noviembre', 'GUSTAVO A MADERO', 164), (2017, 'Diciembre', 'GUSTAVO A MADERO', 173), (2018, 'Enero', 'GUSTAVO A MADERO', 131), (2018, 'Febrero', 'GUSTAVO A MADERO', 174), (2018, 'Marzo', 'GUSTAVO A MADERO', 199), (2018, 'Abril', 'GUSTAVO A MADERO', 203), (2018, 'Mayo', 'GUSTAVO A MADERO', 188), (2018, 'Junio', 'GUSTAVO A MADERO', 186), (2018, 'Julio', 'GUSTAVO A MADERO', 183), (2018, 'Agosto', 'GUSTAVO A MADERO', 161), (2018, 'Septiembre', 'GUSTAVO A MADERO', 174), (2018, 'Octubre', 'GUSTAVO A MADERO', 175), (2018, 'Noviembre', 'GUSTAVO A MADERO', 176), (2018, 'Diciembre', 'GUSTAVO A MADERO', 156), (2019, 'Enero', 'GUSTAVO A MADERO', 176), (2019, 'Febrero', 'GUSTAVO A MADERO', 209), (2019, 'Marzo', 'GUSTAVO A MADERO', 260), (2019, 'Abril', 'GUSTAVO A MADERO', 252), (2019, 'Mayo', 'GUSTAVO A MADERO', 302), (2019, 'Junio', 'GUSTAVO A MADERO', 244), (2019, 'Julio', 'GUSTAVO A MADERO', 247), (2019, 'Agosto', 'GUSTAVO A MADERO', 300), (2019, 'Septiembre', 'GUSTAVO A MADERO', 306), (2019, 'Octubre', 'GUSTAVO A MADERO', 272), (2019, 'Noviembre', 'GUSTAVO A MADERO', 251), (2019, 'Diciembre', 'GUSTAVO A MADERO', 269), (2020, 'Enero', 'GUSTAVO A MADERO', 267), (2020, 'Febrero', 'GUSTAVO A MADERO', 320), (2020, 'Marzo', 'GUSTAVO A MADERO', 361), (2020, 'Abril', 'GUSTAVO A MADERO', 241), (2020, 'Mayo', 'GUSTAVO A MADERO', 232), (2020, 'Junio', 'GUSTAVO A MADERO', 0), (2020, 'Julio', 'GUSTAVO A MADERO', 0), (2020, 'Agosto', 'GUSTAVO A MADERO', 0), (2020, 'Septiembre', 'GUSTAVO A MADERO', 0), (2020, 'Octubre', 'GUSTAVO A MADERO', 0), (2020, 'Noviembre', 'GUSTAVO A MADERO', 0), (2020, 'Diciembre', 'GUSTAVO A MADERO', 0), (2016, 'Enero', 'IZTACALCO', 94), (2016, 'Febrero', 'IZTACALCO', 90), (2016, 'Marzo', 'IZTACALCO', 120), (2016, 'Abril', 'IZTACALCO', 128), (2016, 'Mayo', 'IZTACALCO', 130), (2016, 'Junio', 'IZTACALCO', 109), (2016, 'Julio', 'IZTACALCO', 92), (2016, 'Agosto', 'IZTACALCO', 79), (2016, 'Septiembre', 'IZTACALCO', 89), (2016, 'Octubre', 'IZTACALCO', 103), (2016, 'Noviembre', 'IZTACALCO', 78), (2016, 'Diciembre', 'IZTACALCO', 104), (2017, 'Enero', 'IZTACALCO', 95), (2017, 'Febrero', 'IZTACALCO', 83), (2017, 'Marzo', 'IZTACALCO', 99), (2017, 'Abril', 'IZTACALCO', 71), (2017, 'Mayo', 'IZTACALCO', 90), (2017, 'Junio', 'IZTACALCO', 99), (2017, 'Julio', 'IZTACALCO', 106), (2017, 'Agosto', 'IZTACALCO', 117), (2017, 'Septiembre', 'IZTACALCO', 107), (2017, 'Octubre', 'IZTACALCO', 107), (2017, 'Noviembre', 'IZTACALCO', 106), (2017, 'Diciembre', 'IZTACALCO', 69), (2018, 'Enero', 'IZTACALCO', 87), (2018, 'Febrero', 'IZTACALCO', 81), (2018, 'Marzo', 'IZTACALCO', 97), (2018, 'Abril', 'IZTACALCO', 109), (2018, 'Mayo', 'IZTACALCO', 111), (2018, 'Junio', 'IZTACALCO', 105), (2018, 'Julio', 'IZTACALCO', 124), (2018, 'Agosto', 'IZTACALCO', 133), (2018, 'Septiembre', 'IZTACALCO', 113), (2018, 'Octubre', 'IZTACALCO', 111), (2018, 'Noviembre', 'IZTACALCO', 96), (2018, 'Diciembre', 'IZTACALCO', 93), (2019, 'Enero', 'IZTACALCO', 109), (2019, 'Febrero', 'IZTACALCO', 104), (2019, 'Marzo', 'IZTACALCO', 126), (2019, 'Abril', 'IZTACALCO', 137), (2019, 'Mayo', 'IZTACALCO', 128), (2019, 'Junio', 'IZTACALCO', 123), (2019, 'Julio', 'IZTACALCO', 135), (2019, 'Agosto', 'IZTACALCO', 154), (2019, 'Septiembre', 'IZTACALCO', 131), (2019, 'Octubre', 'IZTACALCO', 130), (2019, 'Noviembre', 'IZTACALCO', 122), (2019, 'Diciembre', 'IZTACALCO', 144), (2020, 'Enero', 'IZTACALCO', 109), (2020, 'Febrero', 'IZTACALCO', 152), (2020, 'Marzo', 'IZTACALCO', 167), (2020, 'Abril', 'IZTACALCO', 98), (2020, 'Mayo', 'IZTACALCO', 96), (2020, 'Junio', 'IZTACALCO', 0), (2020, 'Julio', 'IZTACALCO', 0), (2020, 'Agosto', 'IZTACALCO', 0), (2020, 'Septiembre', 'IZTACALCO', 0), (2020, 'Octubre', 'IZTACALCO', 0), (2020, 'Noviembre', 'IZTACALCO', 0), (2020, 'Diciembre', 'IZTACALCO', 0), (2016, 'Enero', 'IZTAPALAPA', 276), (2016, 'Febrero', 'IZTAPALAPA', 348), (2016, 'Marzo', 'IZTAPALAPA', 345), (2016, 'Abril', 'IZTAPALAPA', 359), (2016, 'Mayo', 'IZTAPALAPA', 393), (2016, 'Junio', 'IZTAPALAPA', 372), (2016, 'Julio', 'IZTAPALAPA', 303), (2016, 'Agosto', 'IZTAPALAPA', 336), (2016, 'Septiembre', 'IZTAPALAPA', 337), (2016, 'Octubre', 'IZTAPALAPA', 329), (2016, 'Noviembre', 'IZTAPALAPA', 286), (2016, 'Diciembre', 'IZTAPALAPA', 297), (2017, 'Enero', 'IZTAPALAPA', 265), (2017, 'Febrero', 'IZTAPALAPA', 291), (2017, 'Marzo', 'IZTAPALAPA', 337), (2017, 'Abril', 'IZTAPALAPA', 332), (2017, 'Mayo', 'IZTAPALAPA', 366), (2017, 'Junio', 'IZTAPALAPA', 306), (2017, 'Julio', 'IZTAPALAPA', 288), (2017, 'Agosto', 'IZTAPALAPA', 324), (2017, 'Septiembre', 'IZTAPALAPA', 330), (2017, 'Octubre', 'IZTAPALAPA', 320), (2017, 'Noviembre', 'IZTAPALAPA', 260), (2017, 'Diciembre', 'IZTAPALAPA', 271), (2018, 'Enero', 'IZTAPALAPA', 234), (2018, 'Febrero', 'IZTAPALAPA', 271), (2018, 'Marzo', 'IZTAPALAPA', 261), (2018, 'Abril', 'IZTAPALAPA', 334), (2018, 'Mayo', 'IZTAPALAPA', 335), (2018, 'Junio', 'IZTAPALAPA', 288), (2018, 'Julio', 'IZTAPALAPA', 310), (2018, 'Agosto', 'IZTAPALAPA', 265), (2018, 'Septiembre', 'IZTAPALAPA', 291), (2018, 'Octubre', 'IZTAPALAPA', 262), (2018, 'Noviembre', 'IZTAPALAPA', 232), (2018, 'Diciembre', 'IZTAPALAPA', 278), (2019, 'Enero', 'IZTAPALAPA', 269), (2019, 'Febrero', 'IZTAPALAPA', 322), (2019, 'Marzo', 'IZTAPALAPA', 406), (2019, 'Abril', 'IZTAPALAPA', 389), (2019, 'Mayo', 'IZTAPALAPA', 472), (2019, 'Junio', 'IZTAPALAPA', 393), (2019, 'Julio', 'IZTAPALAPA', 402), (2019, 'Agosto', 'IZTAPALAPA', 407), (2019, 'Septiembre', 'IZTAPALAPA', 390), (2019, 'Octubre', 'IZTAPALAPA', 421), (2019, 'Noviembre', 'IZTAPALAPA', 398), (2019, 'Diciembre', 'IZTAPALAPA', 367), (2020, 'Enero', 'IZTAPALAPA', 350), (2020, 'Febrero', 'IZTAPALAPA', 441), (2020, 'Marzo', 'IZTAPALAPA', 498), (2020, 'Abril', 'IZTAPALAPA', 296), (2020, 'Mayo', 'IZTAPALAPA', 242), (2020, 'Junio', 'IZTAPALAPA', 0), (2020, 'Julio', 'IZTAPALAPA', 0), (2020, 'Agosto', 'IZTAPALAPA', 0), (2020, 'Septiembre', 'IZTAPALAPA', 0), (2020, 'Octubre', 'IZTAPALAPA', 0), (2020, 'Noviembre', 'IZTAPALAPA', 0), (2020, 'Diciembre', 'IZTAPALAPA', 0), (2016, 'Enero', 'LA MAGDALENA CONTRERAS', 34), (2016, 'Febrero', 'LA MAGDALENA CONTRERAS', 44), (2016, 'Marzo', 'LA MAGDALENA CONTRERAS', 40), (2016, 'Abril', 'LA MAGDALENA CONTRERAS', 47), (2016, 'Mayo', 'LA MAGDALENA CONTRERAS', 61), (2016, 'Junio', 'LA MAGDALENA CONTRERAS', 50), (2016, 'Julio', 'LA MAGDALENA CONTRERAS', 45), (2016, 'Agosto', 'LA MAGDALENA CONTRERAS', 71), (2016, 'Septiembre', 'LA MAGDALENA CONTRERAS', 48), (2016, 'Octubre', 'LA MAGDALENA CONTRERAS', 48), (2016, 'Noviembre', 'LA MAGDALENA CONTRERAS', 61), (2016, 'Diciembre', 'LA MAGDALENA CONTRERAS', 53), (2017, 'Enero', 'LA MAGDALENA CONTRERAS', 58), (2017, 'Febrero', 'LA MAGDALENA CONTRERAS', 45), (2017, 'Marzo', 'LA MAGDALENA CONTRERAS', 54), (2017, 'Abril', 'LA MAGDALENA CONTRERAS', 49), (2017, 'Mayo', 'LA MAGDALENA CONTRERAS', 54), (2017, 'Junio', 'LA MAGDALENA CONTRERAS', 66), (2017, 'Julio', 'LA MAGDALENA CONTRERAS', 59), (2017, 'Agosto', 'LA MAGDALENA CONTRERAS', 67), (2017, 'Septiembre', 'LA MAGDALENA CONTRERAS', 54), (2017, 'Octubre', 'LA MAGDALENA CONTRERAS', 72), (2017, 'Noviembre', 'LA MAGDALENA CONTRERAS', 59), (2017, 'Diciembre', 'LA MAGDALENA CONTRERAS', 47), (2018, 'Enero', 'LA MAGDALENA CONTRERAS', 67), (2018, 'Febrero', 'LA MAGDALENA CONTRERAS', 50), (2018, 'Marzo', 'LA MAGDALENA CONTRERAS', 77), (2018, 'Abril', 'LA MAGDALENA CONTRERAS', 84), (2018, 'Mayo', 'LA MAGDALENA CONTRERAS', 96), (2018, 'Junio', 'LA MAGDALENA CONTRERAS', 70), (2018, 'Julio', 'LA MAGDALENA CONTRERAS', 73), (2018, 'Agosto', 'LA MAGDALENA CONTRERAS', 60), (2018, 'Septiembre', 'LA MAGDALENA CONTRERAS', 57), (2018, 'Octubre', 'LA MAGDALENA CONTRERAS', 84), (2018, 'Noviembre', 'LA MAGDALENA CONTRERAS', 51), (2018, 'Diciembre', 'LA MAGDALENA CONTRERAS', 64), (2019, 'Enero', 'LA MAGDALENA CONTRERAS', 57), (2019, 'Febrero', 'LA MAGDALENA CONTRERAS', 77), (2019, 'Marzo', 'LA MAGDALENA CONTRERAS', 82), (2019, 'Abril', 'LA MAGDALENA CONTRERAS', 87), (2019, 'Mayo', 'LA MAGDALENA CONTRERAS', 84), (2019, 'Junio', 'LA MAGDALENA CONTRERAS', 98), (2019, 'Julio', 'LA MAGDALENA CONTRERAS', 66), (2019, 'Agosto', 'LA MAGDALENA CONTRERAS', 74), (2019, 'Septiembre', 'LA MAGDALENA CONTRERAS', 71), (2019, 'Octubre', 'LA MAGDALENA CONTRERAS', 64), (2019, 'Noviembre', 'LA MAGDALENA CONTRERAS', 75), (2019, 'Diciembre', 'LA MAGDALENA CONTRERAS', 66), (2020, 'Enero', 'LA MAGDALENA CONTRERAS', 81), (2020, 'Febrero', 'LA MAGDALENA CONTRERAS', 88), (2020, 'Marzo', 'LA MAGDALENA CONTRERAS', 93), (2020, 'Abril', 'LA MAGDALENA CONTRERAS', 55), (2020, 'Mayo', 'LA MAGDALENA CONTRERAS', 55), (2020, 'Junio', 'LA MAGDALENA CONTRERAS', 0), (2020, 'Julio', 'LA MAGDALENA CONTRERAS', 0), (2020, 'Agosto', 'LA MAGDALENA CONTRERAS', 0), (2020, 'Septiembre', 'LA MAGDALENA CONTRERAS', 0), (2020, 'Octubre', 'LA MAGDALENA CONTRERAS', 0), (2020, 'Noviembre', 'LA MAGDALENA CONTRERAS', 0), (2020, 'Diciembre', 'LA MAGDALENA CONTRERAS', 0), (2016, 'Enero', 'MIGUEL HIDALGO', 39), (2016, 'Febrero', 'MIGUEL HIDALGO', 57), (2016, 'Marzo', 'MIGUEL HIDALGO', 63), (2016, 'Abril', 'MIGUEL HIDALGO', 65), (2016, 'Mayo', 'MIGUEL HIDALGO', 63), (2016, 'Junio', 'MIGUEL HIDALGO', 58), (2016, 'Julio', 'MIGUEL HIDALGO', 37), (2016, 'Agosto', 'MIGUEL HIDALGO', 58), (2016, 'Septiembre', 'MIGUEL HIDALGO', 48), (2016, 'Octubre', 'MIGUEL HIDALGO', 49), (2016, 'Noviembre', 'MIGUEL HIDALGO', 36), (2016, 'Diciembre', 'MIGUEL HIDALGO', 47), (2017, 'Enero', 'MIGUEL HIDALGO', 49), (2017, 'Febrero', 'MIGUEL HIDALGO', 52), (2017, 'Marzo', 'MIGUEL HIDALGO', 43), (2017, 'Abril', 'MIGUEL HIDALGO', 39), (2017, 'Mayo', 'MIGUEL HIDALGO', 55), (2017, 'Junio', 'MIGUEL HIDALGO', 57), (2017, 'Julio', 'MIGUEL HIDALGO', 37), (2017, 'Agosto', 'MIGUEL HIDALGO', 57), (2017, 'Septiembre', 'MIGUEL HIDALGO', 50), (2017, 'Octubre', 'MIGUEL HIDALGO', 54), (2017, 'Noviembre', 'MIGUEL HIDALGO', 46), (2017, 'Diciembre', 'MIGUEL HIDALGO', 46), (2018, 'Enero', 'MIGUEL HIDALGO', 47), (2018, 'Febrero', 'MIGUEL HIDALGO', 43), (2018, 'Marzo', 'MIGUEL HIDALGO', 49), (2018, 'Abril', 'MIGUEL HIDALGO', 42), (2018, 'Mayo', 'MIGUEL HIDALGO', 55), (2018, 'Junio', 'MIGUEL HIDALGO', 52), (2018, 'Julio', 'MIGUEL HIDALGO', 53), (2018, 'Agosto', 'MIGUEL HIDALGO', 32), (2018, 'Septiembre', 'MIGUEL HIDALGO', 43), (2018, 'Octubre', 'MIGUEL HIDALGO', 58), (2018, 'Noviembre', 'MIGUEL HIDALGO', 53), (2018, 'Diciembre', 'MIGUEL HIDALGO', 55), (2019, 'Enero', 'MIGUEL HIDALGO', 53), (2019, 'Febrero', 'MIGUEL HIDALGO', 55), (2019, 'Marzo', 'MIGUEL HIDALGO', 89), (2019, 'Abril', 'MIGUEL HIDALGO', 78), (2019, 'Mayo', 'MIGUEL HIDALGO', 81), (2019, 'Junio', 'MIGUEL HIDALGO', 90), (2019, 'Julio', 'MIGUEL HIDALGO', 73), (2019, 'Agosto', 'MIGUEL HIDALGO', 75), (2019, 'Septiembre', 'MIGUEL HIDALGO', 81), (2019, 'Octubre', 'MIGUEL HIDALGO', 86), (2019, 'Noviembre', 'MIGUEL HIDALGO', 68), (2019, 'Diciembre', 'MIGUEL HIDALGO', 71), (2020, 'Enero', 'MIGUEL HIDALGO', 77), (2020, 'Febrero', 'MIGUEL HIDALGO', 105), (2020, 'Marzo', 'MIGUEL HIDALGO', 104), (2020, 'Abril', 'MIGUEL HIDALGO', 86), (2020, 'Mayo', 'MIGUEL HIDALGO', 82), (2020, 'Junio', 'MIGUEL HIDALGO', 0), (2020, 'Julio', 'MIGUEL HIDALGO', 0), (2020, 'Agosto', 'MIGUEL HIDALGO', 0), (2020, 'Septiembre', 'MIGUEL HIDALGO', 0), (2020, 'Octubre', 'MIGUEL HIDALGO', 0), (2020, 'Noviembre', 'MIGUEL HIDALGO', 0), (2020, 'Diciembre', 'MIGUEL HIDALGO', 0), (2016, 'Enero', 'MILPA ALTA', 19), (2016, 'Febrero', 'MILPA ALTA', 9), (2016, 'Marzo', 'MILPA ALTA', 22), (2016, 'Abril', 'MILPA ALTA', 25), (2016, 'Mayo', 'MILPA ALTA', 15), (2016, 'Junio', 'MILPA ALTA', 22), (2016, 'Julio', 'MILPA ALTA', 22), (2016, 'Agosto', 'MILPA ALTA', 29), (2016, 'Septiembre', 'MILPA ALTA', 19), (2016, 'Octubre', 'MILPA ALTA', 19), (2016, 'Noviembre', 'MILPA ALTA', 14), (2016, 'Diciembre', 'MILPA ALTA', 21), (2017, 'Enero', 'MILPA ALTA', 18), (2017, 'Febrero', 'MILPA ALTA', 17), (2017, 'Marzo', 'MILPA ALTA', 22), (2017, 'Abril', 'MILPA ALTA', 30), (2017, 'Mayo', 'MILPA ALTA', 17), (2017, 'Junio', 'MILPA ALTA', 31), (2017, 'Julio', 'MILPA ALTA', 30), (2017, 'Agosto', 'MILPA ALTA', 20), (2017, 'Septiembre', 'MILPA ALTA', 26), (2017, 'Octubre', 'MILPA ALTA', 26), (2017, 'Noviembre', 'MILPA ALTA', 22), (2017, 'Diciembre', 'MILPA ALTA', 17), (2018, 'Enero', 'MILPA ALTA', 24), (2018, 'Febrero', 'MILPA ALTA', 35), (2018, 'Marzo', 'MILPA ALTA', 23), (2018, 'Abril', 'MILPA ALTA', 32), (2018, 'Mayo', 'MILPA ALTA', 34), (2018, 'Junio', 'MILPA ALTA', 28), (2018, 'Julio', 'MILPA ALTA', 24), (2018, 'Agosto', 'MILPA ALTA', 29), (2018, 'Septiembre', 'MILPA ALTA', 36), (2018, 'Octubre', 'MILPA ALTA', 37), (2018, 'Noviembre', 'MILPA ALTA', 24), (2018, 'Diciembre', 'MILPA ALTA', 18), (2019, 'Enero', 'MILPA ALTA', 32), (2019, 'Febrero', 'MILPA ALTA', 26), (2019, 'Marzo', 'MILPA ALTA', 42), (2019, 'Abril', 'MILPA ALTA', 44), (2019, 'Mayo', 'MILPA ALTA', 38), (2019, 'Junio', 'MILPA ALTA', 28), (2019, 'Julio', 'MILPA ALTA', 30), (2019, 'Agosto', 'MILPA ALTA', 42), (2019, 'Septiembre', 'MILPA ALTA', 36), (2019, 'Octubre', 'MILPA ALTA', 29), (2019, 'Noviembre', 'MILPA ALTA', 38), (2019, 'Diciembre', 'MILPA ALTA', 28), (2020, 'Enero', 'MILPA ALTA', 18), (2020, 'Febrero', 'MILPA ALTA', 34), (2020, 'Marzo', 'MILPA ALTA', 48), (2020, 'Abril', 'MILPA ALTA', 30), (2020, 'Mayo', 'MILPA ALTA', 22), (2020, 'Junio', 'MILPA ALTA', 0), (2020, 'Julio', 'MILPA ALTA', 0), (2020, 'Agosto', 'MILPA ALTA', 0), (2020, 'Septiembre', 'MILPA ALTA', 0), (2020, 'Octubre', 'MILPA ALTA', 0), (2020, 'Noviembre', 'MILPA ALTA', 0), (2020, 'Diciembre', 'MILPA ALTA', 0), (2016, 'Enero', 'TLAHUAC', 40), (2016, 'Febrero', 'TLAHUAC', 50), (2016, 'Marzo', 'TLAHUAC', 70), (2016, 'Abril', 'TLAHUAC', 60), (2016, 'Mayo', 'TLAHUAC', 76), (2016, 'Junio', 'TLAHUAC', 62), (2016, 'Julio', 'TLAHUAC', 56), (2016, 'Agosto', 'TLAHUAC', 68), (2016, 'Septiembre', 'TLAHUAC', 68), (2016, 'Octubre', 'TLAHUAC', 83), (2016, 'Noviembre', 'TLAHUAC', 57), (2016, 'Diciembre', 'TLAHUAC', 54), (2017, 'Enero', 'TLAHUAC', 64), (2017, 'Febrero', 'TLAHUAC', 63), (2017, 'Marzo', 'TLAHUAC', 83), (2017, 'Abril', 'TLAHUAC', 62), (2017, 'Mayo', 'TLAHUAC', 69), (2017, 'Junio', 'TLAHUAC', 82), (2017, 'Julio', 'TLAHUAC', 52), (2017, 'Agosto', 'TLAHUAC', 74), (2017, 'Septiembre', 'TLAHUAC', 60), (2017, 'Octubre', 'TLAHUAC', 54), (2017, 'Noviembre', 'TLAHUAC', 58), (2017, 'Diciembre', 'TLAHUAC', 77), (2018, 'Enero', 'TLAHUAC', 87), (2018, 'Febrero', 'TLAHUAC', 68), (2018, 'Marzo', 'TLAHUAC', 89), (2018, 'Abril', 'TLAHUAC', 93), (2018, 'Mayo', 'TLAHUAC', 97), (2018, 'Junio', 'TLAHUAC', 77), (2018, 'Julio', 'TLAHUAC', 68), (2018, 'Agosto', 'TLAHUAC', 73), (2018, 'Septiembre', 'TLAHUAC', 54), (2018, 'Octubre', 'TLAHUAC', 63), (2018, 'Noviembre', 'TLAHUAC', 74), (2018, 'Diciembre', 'TLAHUAC', 68), (2019, 'Enero', 'TLAHUAC', 49), (2019, 'Febrero', 'TLAHUAC', 79), (2019, 'Marzo', 'TLAHUAC', 78), (2019, 'Abril', 'TLAHUAC', 80), (2019, 'Mayo', 'TLAHUAC', 92), (2019, 'Junio', 'TLAHUAC', 85), (2019, 'Julio', 'TLAHUAC', 106), (2019, 'Agosto', 'TLAHUAC', 118), (2019, 'Septiembre', 'TLAHUAC', 104), (2019, 'Octubre', 'TLAHUAC', 113), (2019, 'Noviembre', 'TLAHUAC', 73), (2019, 'Diciembre', 'TLAHUAC', 91), (2020, 'Enero', 'TLAHUAC', 89), (2020, 'Febrero', 'TLAHUAC', 122), (2020, 'Marzo', 'TLAHUAC', 124), (2020, 'Abril', 'TLAHUAC', 73), (2020, 'Mayo', 'TLAHUAC', 64), (2020, 'Junio', 'TLAHUAC', 0), (2020, 'Julio', 'TLAHUAC', 0), (2020, 'Agosto', 'TLAHUAC', 0), (2020, 'Septiembre', 'TLAHUAC', 0), (2020, 'Octubre', 'TLAHUAC', 0), (2020, 'Noviembre', 'TLAHUAC', 0), (2020, 'Diciembre', 'TLAHUAC', 0), (2016, 'Enero', 'TLALPAN', 85), (2016, 'Febrero', 'TLALPAN', 91), (2016, 'Marzo', 'TLALPAN', 94), (2016, 'Abril', 'TLALPAN', 114), (2016, 'Mayo', 'TLALPAN', 125), (2016, 'Junio', 'TLALPAN', 134), (2016, 'Julio', 'TLALPAN', 130), (2016, 'Agosto', 'TLALPAN', 130), (2016, 'Septiembre', 'TLALPAN', 147), (2016, 'Octubre', 'TLALPAN', 136), (2016, 'Noviembre', 'TLALPAN', 113), (2016, 'Diciembre', 'TLALPAN', 112), (2017, 'Enero', 'TLALPAN', 130), (2017, 'Febrero', 'TLALPAN', 96), (2017, 'Marzo', 'TLALPAN', 119), (2017, 'Abril', 'TLALPAN', 121), (2017, 'Mayo', 'TLALPAN', 139), (2017, 'Junio', 'TLALPAN', 115), (2017, 'Julio', 'TLALPAN', 123), (2017, 'Agosto', 'TLALPAN', 149), (2017, 'Septiembre', 'TLALPAN', 146), (2017, 'Octubre', 'TLALPAN', 126), (2017, 'Noviembre', 'TLALPAN', 124), (2017, 'Diciembre', 'TLALPAN', 105), (2018, 'Enero', 'TLALPAN', 133), (2018, 'Febrero', 'TLALPAN', 118), (2018, 'Marzo', 'TLALPAN', 159), (2018, 'Abril', 'TLALPAN', 140), (2018, 'Mayo', 'TLALPAN', 175), (2018, 'Junio', 'TLALPAN', 133), (2018, 'Julio', 'TLALPAN', 137), (2018, 'Agosto', 'TLALPAN', 108), (2018, 'Septiembre', 'TLALPAN', 116), (2018, 'Octubre', 'TLALPAN', 131), (2018, 'Noviembre', 'TLALPAN', 127), (2018, 'Diciembre', 'TLALPAN', 125), (2019, 'Enero', 'TLALPAN', 127), (2019, 'Febrero', 'TLALPAN', 135), (2019, 'Marzo', 'TLALPAN', 165), (2019, 'Abril', 'TLALPAN', 146), (2019, 'Mayo', 'TLALPAN', 178), (2019, 'Junio', 'TLALPAN', 173), (2019, 'Julio', 'TLALPAN', 209), (2019, 'Agosto', 'TLALPAN', 186), (2019, 'Septiembre', 'TLALPAN', 157), (2019, 'Octubre', 'TLALPAN', 130), (2019, 'Noviembre', 'TLALPAN', 134), (2019, 'Diciembre', 'TLALPAN', 151), (2020, 'Enero', 'TLALPAN', 132), (2020, 'Febrero', 'TLALPAN', 149), (2020, 'Marzo', 'TLALPAN', 197), (2020, 'Abril', 'TLALPAN', 134), (2020, 'Mayo', 'TLALPAN', 95), (2020, 'Junio', 'TLALPAN', 0), (2020, 'Julio', 'TLALPAN', 0), (2020, 'Agosto', 'TLALPAN', 0), (2020, 'Septiembre', 'TLALPAN', 0), (2020, 'Octubre', 'TLALPAN', 0), (2020, 'Noviembre', 'TLALPAN', 0), (2020, 'Diciembre', 'TLALPAN', 0), (2016, 'Enero', 'VENUSTIANO CARRANZA', 72), (2016, 'Febrero', 'VENUSTIANO CARRANZA', 99), (2016, 'Marzo', 'VENUSTIANO CARRANZA', 79), (2016, 'Abril', 'VENUSTIANO CARRANZA', 87), (2016, 'Mayo', 'VENUSTIANO CARRANZA', 101), (2016, 'Junio', 'VENUSTIANO CARRANZA', 82), (2016, 'Julio', 'VENUSTIANO CARRANZA', 83), (2016, 'Agosto', 'VENUSTIANO CARRANZA', 83), (2016, 'Septiembre', 'VENUSTIANO CARRANZA', 80), (2016, 'Octubre', 'VENUSTIANO CARRANZA', 73), (2016, 'Noviembre', 'VENUSTIANO CARRANZA', 82), (2016, 'Diciembre', 'VENUSTIANO CARRANZA', 63), (2017, 'Enero', 'VENUSTIANO CARRANZA', 65), (2017, 'Febrero', 'VENUSTIANO CARRANZA', 74), (2017, 'Marzo', 'VENUSTIANO CARRANZA', 73), (2017, 'Abril', 'VENUSTIANO CARRANZA', 78), (2017, 'Mayo', 'VENUSTIANO CARRANZA', 86), (2017, 'Junio', 'VENUSTIANO CARRANZA', 95), (2017, 'Julio', 'VENUSTIANO CARRANZA', 64), (2017, 'Agosto', 'VENUSTIANO CARRANZA', 92), (2017, 'Septiembre', 'VENUSTIANO CARRANZA', 88), (2017, 'Octubre', 'VENUSTIANO CARRANZA', 95), (2017, 'Noviembre', 'VENUSTIANO CARRANZA', 67), (2017, 'Diciembre', 'VENUSTIANO CARRANZA', 68), (2018, 'Enero', 'VENUSTIANO CARRANZA', 95), (2018, 'Febrero', 'VENUSTIANO CARRANZA', 92), (2018, 'Marzo', 'VENUSTIANO CARRANZA', 111), (2018, 'Abril', 'VENUSTIANO CARRANZA', 104), (2018, 'Mayo', 'VENUSTIANO CARRANZA', 109), (2018, 'Junio', 'VENUSTIANO CARRANZA', 105), (2018, 'Julio', 'VENUSTIANO CARRANZA', 102), (2018, 'Agosto', 'VENUSTIANO CARRANZA', 109), (2018, 'Septiembre', 'VENUSTIANO CARRANZA', 124), (2018, 'Octubre', 'VENUSTIANO CARRANZA', 97), (2018, 'Noviembre', 'VENUSTIANO CARRANZA', 76), (2018, 'Diciembre', 'VENUSTIANO CARRANZA', 89), (2019, 'Enero', 'VENUSTIANO CARRANZA', 80), (2019, 'Febrero', 'VENUSTIANO CARRANZA', 73), (2019, 'Marzo', 'VENUSTIANO CARRANZA', 134), (2019, 'Abril', 'VENUSTIANO CARRANZA', 152), (2019, 'Mayo', 'VENUSTIANO CARRANZA', 156), (2019, 'Junio', 'VENUSTIANO CARRANZA', 139), (2019, 'Julio', 'VENUSTIANO CARRANZA', 131), (2019, 'Agosto', 'VENUSTIANO CARRANZA', 148), (2019, 'Septiembre', 'VENUSTIANO CARRANZA', 173), (2019, 'Octubre', 'VENUSTIANO CARRANZA', 133), (2019, 'Noviembre', 'VENUSTIANO CARRANZA', 122), (2019, 'Diciembre', 'VENUSTIANO CARRANZA', 129), (2020, 'Enero', 'VENUSTIANO CARRANZA', 142), (2020, 'Febrero', 'VENUSTIANO CARRANZA', 144), (2020, 'Marzo', 'VENUSTIANO CARRANZA', 189), (2020, 'Abril', 'VENUSTIANO CARRANZA', 88), (2020, 'Mayo', 'VENUSTIANO CARRANZA', 78), (2020, 'Junio', 'VENUSTIANO CARRANZA', 0), (2020, 'Julio', 'VENUSTIANO CARRANZA', 0), (2020, 'Agosto', 'VENUSTIANO CARRANZA', 0), (2020, 'Septiembre', 'VENUSTIANO CARRANZA', 0), (2020, 'Octubre', 'VENUSTIANO CARRANZA', 0), (2020, 'Noviembre', 'VENUSTIANO CARRANZA', 0), (2020, 'Diciembre', 'VENUSTIANO CARRANZA', 0), (2016, 'Enero', 'XOCHIMILCO', 67), (2016, 'Febrero', 'XOCHIMILCO', 83), (2016, 'Marzo', 'XOCHIMILCO', 67), (2016, 'Abril', 'XOCHIMILCO', 63), (2016, 'Mayo', 'XOCHIMILCO', 96), (2016, 'Junio', 'XOCHIMILCO', 107), (2016, 'Julio', 'XOCHIMILCO', 59), (2016, 'Agosto', 'XOCHIMILCO', 76), (2016, 'Septiembre', 'XOCHIMILCO', 59), (2016, 'Octubre', 'XOCHIMILCO', 71), (2016, 'Noviembre', 'XOCHIMILCO', 71), (2016, 'Diciembre', 'XOCHIMILCO', 81), (2017, 'Enero', 'XOCHIMILCO', 73), (2017, 'Febrero', 'XOCHIMILCO', 87), (2017, 'Marzo', 'XOCHIMILCO', 77), (2017, 'Abril', 'XOCHIMILCO', 98), (2017, 'Mayo', 'XOCHIMILCO', 86), (2017, 'Junio', 'XOCHIMILCO', 122), (2017, 'Julio', 'XOCHIMILCO', 111), (2017, 'Agosto', 'XOCHIMILCO', 105), (2017, 'Septiembre', 'XOCHIMILCO', 90), (2017, 'Octubre', 'XOCHIMILCO', 89), (2017, 'Noviembre', 'XOCHIMILCO', 77), (2017, 'Diciembre', 'XOCHIMILCO', 88), (2018, 'Enero', 'XOCHIMILCO', 86), (2018, 'Febrero', 'XOCHIMILCO', 94), (2018, 'Marzo', 'XOCHIMILCO', 80), (2018, 'Abril', 'XOCHIMILCO', 110), (2018, 'Mayo', 'XOCHIMILCO', 103), (2018, 'Junio', 'XOCHIMILCO', 82), (2018, 'Julio', 'XOCHIMILCO', 75), (2018, 'Agosto', 'XOCHIMILCO', 56), (2018, 'Septiembre', 'XOCHIMILCO', 64), (2018, 'Octubre', 'XOCHIMILCO', 85), (2018, 'Noviembre', 'XOCHIMILCO', 65), (2018, 'Diciembre', 'XOCHIMILCO', 83), (2019, 'Enero', 'XOCHIMILCO', 80), (2019, 'Febrero', 'XOCHIMILCO', 54), (2019, 'Marzo', 'XOCHIMILCO', 88), (2019, 'Abril', 'XOCHIMILCO', 81), (2019, 'Mayo', 'XOCHIMILCO', 143), (2019, 'Junio', 'XOCHIMILCO', 110), (2019, 'Julio', 'XOCHIMILCO', 117), (2019, 'Agosto', 'XOCHIMILCO', 106), (2019, 'Septiembre', 'XOCHIMILCO', 118), (2019, 'Octubre', 'XOCHIMILCO', 97), (2019, 'Noviembre', 'XOCHIMILCO', 93), (2019, 'Diciembre', 'XOCHIMILCO', 97), (2020, 'Enero', 'XOCHIMILCO', 94), (2020, 'Febrero', 'XOCHIMILCO', 114), (2020, 'Marzo', 'XOCHIMILCO', 162), (2020, 'Abril', 'XOCHIMILCO', 109), (2020, 'Mayo', 'XOCHIMILCO', 96), (2020, 'Junio', 'XOCHIMILCO', 0), (2020, 'Julio', 'XOCHIMILCO', 0), (2020, 'Agosto', 'XOCHIMILCO', 0), (2020, 'Septiembre', 'XOCHIMILCO', 0), (2020, 'Octubre', 'XOCHIMILCO', 0), (2020, 'Noviembre', 'XOCHIMILCO', 0), (2020, 'Diciembre', 'XOCHIMILCO', 0)]\n"
     ]
    }
   ],
   "source": [
    "print(datos_totales)"
   ]
  },
  {
   "cell_type": "code",
   "execution_count": null,
   "metadata": {},
   "outputs": [],
   "source": []
  },
  {
   "cell_type": "code",
   "execution_count": null,
   "metadata": {},
   "outputs": [],
   "source": []
  },
  {
   "cell_type": "code",
   "execution_count": 20,
   "metadata": {},
   "outputs": [],
   "source": [
    "df3=pd.DataFrame(columns=[\"anio\",\"mes\",\"alcaldia\",\"numero_denuncias\"], data=datos_totales)"
   ]
  },
  {
   "cell_type": "code",
   "execution_count": null,
   "metadata": {},
   "outputs": [],
   "source": []
  },
  {
   "cell_type": "code",
   "execution_count": 21,
   "metadata": {},
   "outputs": [
    {
     "name": "stdout",
     "output_type": "stream",
     "text": [
      "   anio         mes        alcaldia  numero_denuncias\n",
      "0  2016       Enero  ALVARO OBREGON                86\n",
      "1  2016     Febrero  ALVARO OBREGON               110\n",
      "2  2016       Marzo  ALVARO OBREGON                89\n",
      "3  2016       Abril  ALVARO OBREGON               110\n",
      "4  2016        Mayo  ALVARO OBREGON               135\n",
      "5  2016       Junio  ALVARO OBREGON               134\n",
      "6  2016       Julio  ALVARO OBREGON               118\n",
      "7  2016      Agosto  ALVARO OBREGON               126\n",
      "8  2016  Septiembre  ALVARO OBREGON               121\n",
      "9  2016     Octubre  ALVARO OBREGON               105\n"
     ]
    }
   ],
   "source": [
    "print(df3.head(10))"
   ]
  },
  {
   "cell_type": "code",
   "execution_count": 22,
   "metadata": {},
   "outputs": [
    {
     "name": "stdout",
     "output_type": "stream",
     "text": [
      "     anio         mes    alcaldia  numero_denuncias\n",
      "940  2019        Mayo  XOCHIMILCO               143\n",
      "941  2019       Junio  XOCHIMILCO               110\n",
      "942  2019       Julio  XOCHIMILCO               117\n",
      "943  2019      Agosto  XOCHIMILCO               106\n",
      "944  2019  Septiembre  XOCHIMILCO               118\n",
      "945  2019     Octubre  XOCHIMILCO                97\n",
      "946  2019   Noviembre  XOCHIMILCO                93\n",
      "947  2019   Diciembre  XOCHIMILCO                97\n",
      "948  2020       Enero  XOCHIMILCO                94\n",
      "949  2020     Febrero  XOCHIMILCO               114\n",
      "950  2020       Marzo  XOCHIMILCO               162\n",
      "951  2020       Abril  XOCHIMILCO               109\n",
      "952  2020        Mayo  XOCHIMILCO                96\n",
      "953  2020       Junio  XOCHIMILCO                 0\n",
      "954  2020       Julio  XOCHIMILCO                 0\n",
      "955  2020      Agosto  XOCHIMILCO                 0\n",
      "956  2020  Septiembre  XOCHIMILCO                 0\n",
      "957  2020     Octubre  XOCHIMILCO                 0\n",
      "958  2020   Noviembre  XOCHIMILCO                 0\n",
      "959  2020   Diciembre  XOCHIMILCO                 0\n"
     ]
    }
   ],
   "source": [
    "print(df3.tail(20))"
   ]
  },
  {
   "cell_type": "code",
   "execution_count": null,
   "metadata": {},
   "outputs": [],
   "source": []
  },
  {
   "cell_type": "code",
   "execution_count": 23,
   "metadata": {},
   "outputs": [],
   "source": [
    "##Le quitamos los casos que tienen 0, que son los meses de junio a diciembre de 2020. \n",
    "\n",
    "df4 = df3[df3.numero_denuncias != 0]"
   ]
  },
  {
   "cell_type": "code",
   "execution_count": 24,
   "metadata": {},
   "outputs": [
    {
     "name": "stdout",
     "output_type": "stream",
     "text": [
      "     anio        mes    alcaldia  numero_denuncias\n",
      "946  2019  Noviembre  XOCHIMILCO                93\n",
      "947  2019  Diciembre  XOCHIMILCO                97\n",
      "948  2020      Enero  XOCHIMILCO                94\n",
      "949  2020    Febrero  XOCHIMILCO               114\n",
      "950  2020      Marzo  XOCHIMILCO               162\n",
      "951  2020      Abril  XOCHIMILCO               109\n",
      "952  2020       Mayo  XOCHIMILCO                96\n"
     ]
    }
   ],
   "source": [
    "print(df4.tail(7))"
   ]
  },
  {
   "cell_type": "code",
   "execution_count": 25,
   "metadata": {},
   "outputs": [],
   "source": [
    "#Guardo el archivo \n",
    "df4.to_csv(\"viol_numero_denuncias_ok\")"
   ]
  },
  {
   "cell_type": "code",
   "execution_count": null,
   "metadata": {},
   "outputs": [],
   "source": []
  },
  {
   "cell_type": "code",
   "execution_count": null,
   "metadata": {},
   "outputs": [],
   "source": []
  },
  {
   "cell_type": "code",
   "execution_count": 26,
   "metadata": {},
   "outputs": [],
   "source": [
    "#Creamos otro data frame de denuncias mensuales: "
   ]
  },
  {
   "cell_type": "code",
   "execution_count": 27,
   "metadata": {},
   "outputs": [],
   "source": [
    "denuncias_por_mes=df4.groupby([\"anio\",\"mes\"]).numero_denuncias.sum()\n",
    "\n",
    "den_mes=denuncias_por_mes.to_frame(name=\"denuncias_mes\").reset_index()"
   ]
  },
  {
   "cell_type": "code",
   "execution_count": 28,
   "metadata": {},
   "outputs": [
    {
     "data": {
      "text/plain": [
       "Index(['anio', 'mes', 'denuncias_mes'], dtype='object')"
      ]
     },
     "execution_count": 28,
     "metadata": {},
     "output_type": "execute_result"
    }
   ],
   "source": [
    "den_mes.columns"
   ]
  },
  {
   "cell_type": "code",
   "execution_count": null,
   "metadata": {},
   "outputs": [],
   "source": []
  },
  {
   "cell_type": "code",
   "execution_count": 29,
   "metadata": {},
   "outputs": [
    {
     "data": {
      "text/plain": [
       "pandas.core.frame.DataFrame"
      ]
     },
     "execution_count": 29,
     "metadata": {},
     "output_type": "execute_result"
    }
   ],
   "source": [
    "type(den_mes)"
   ]
  },
  {
   "cell_type": "code",
   "execution_count": 30,
   "metadata": {},
   "outputs": [],
   "source": [
    "order=[\"Enero\",\"Febrero\",\"Marzo\",\"Abril\",\"Mayo\",\"Junio\",\"Julio\",\"Agosto\",\"Septiembre\",\"Octubre\",\"Noviembre\",\"Diciembre\"]"
   ]
  },
  {
   "cell_type": "code",
   "execution_count": 31,
   "metadata": {},
   "outputs": [],
   "source": [
    "den_mes.mes=pd.Categorical(den_mes.mes,categories=[\"Enero\",\"Febrero\",\"Marzo\",\"Abril\",\"Mayo\",\"Junio\",\"Julio\",\"Agosto\",\"Septiembre\",\"Octubre\",\"Noviembre\",\"Diciembre\"])\n",
    "\n"
   ]
  },
  {
   "cell_type": "code",
   "execution_count": 32,
   "metadata": {},
   "outputs": [],
   "source": [
    "den_mes=den_mes.sort_values([\"anio\",\"mes\"])"
   ]
  },
  {
   "cell_type": "code",
   "execution_count": 33,
   "metadata": {},
   "outputs": [],
   "source": [
    "denuncias_mensual=den_mes.sort_values([\"anio\",\"mes\"]).reset_index()"
   ]
  },
  {
   "cell_type": "code",
   "execution_count": 34,
   "metadata": {},
   "outputs": [
    {
     "name": "stdout",
     "output_type": "stream",
     "text": [
      "   index  anio      mes  denuncias_mes\n",
      "0      3  2016    Enero           1315\n",
      "1      4  2016  Febrero           1533\n",
      "2      7  2016    Marzo           1541\n",
      "3      0  2016    Abril           1739\n"
     ]
    }
   ],
   "source": [
    "print(denuncias_mensual.head(4))"
   ]
  },
  {
   "cell_type": "code",
   "execution_count": 35,
   "metadata": {},
   "outputs": [],
   "source": [
    "#Guardamos el archivo \n",
    "denuncias_mensual.to_csv(\"denuncias_mensuales\")"
   ]
  },
  {
   "cell_type": "code",
   "execution_count": null,
   "metadata": {},
   "outputs": [],
   "source": []
  },
  {
   "cell_type": "code",
   "execution_count": 36,
   "metadata": {},
   "outputs": [],
   "source": [
    "##Denuncias al año \n",
    "\n",
    "denuncias_anio=[]\n",
    "k=0\n",
    "for i in range(len(anio)):\n",
    "    a=df4.loc[df4['anio'] == anio[k], 'numero_denuncias'].sum()\n",
    "    denuncias_anio.append(a)\n",
    "    k+=1\n",
    "\n",
    "    \n",
    "    "
   ]
  },
  {
   "cell_type": "code",
   "execution_count": 37,
   "metadata": {},
   "outputs": [
    {
     "name": "stdout",
     "output_type": "stream",
     "text": [
      "[18558, 18435, 19933, 25776, 10674]\n"
     ]
    }
   ],
   "source": [
    "print(denuncias_anio)"
   ]
  },
  {
   "cell_type": "code",
   "execution_count": 38,
   "metadata": {},
   "outputs": [],
   "source": [
    "df5=pd.DataFrame(anio,columns=[\"anio\"])\n",
    "#colnames(df5)=\"anio\"\n",
    "df5[\"denuncias_anio\"]=denuncias_anio"
   ]
  },
  {
   "cell_type": "code",
   "execution_count": 39,
   "metadata": {},
   "outputs": [
    {
     "data": {
      "text/html": [
       "<div>\n",
       "<style scoped>\n",
       "    .dataframe tbody tr th:only-of-type {\n",
       "        vertical-align: middle;\n",
       "    }\n",
       "\n",
       "    .dataframe tbody tr th {\n",
       "        vertical-align: top;\n",
       "    }\n",
       "\n",
       "    .dataframe thead th {\n",
       "        text-align: right;\n",
       "    }\n",
       "</style>\n",
       "<table border=\"1\" class=\"dataframe\">\n",
       "  <thead>\n",
       "    <tr style=\"text-align: right;\">\n",
       "      <th></th>\n",
       "      <th>anio</th>\n",
       "      <th>denuncias_anio</th>\n",
       "    </tr>\n",
       "  </thead>\n",
       "  <tbody>\n",
       "    <tr>\n",
       "      <th>0</th>\n",
       "      <td>2016</td>\n",
       "      <td>18558</td>\n",
       "    </tr>\n",
       "    <tr>\n",
       "      <th>1</th>\n",
       "      <td>2017</td>\n",
       "      <td>18435</td>\n",
       "    </tr>\n",
       "    <tr>\n",
       "      <th>2</th>\n",
       "      <td>2018</td>\n",
       "      <td>19933</td>\n",
       "    </tr>\n",
       "    <tr>\n",
       "      <th>3</th>\n",
       "      <td>2019</td>\n",
       "      <td>25776</td>\n",
       "    </tr>\n",
       "    <tr>\n",
       "      <th>4</th>\n",
       "      <td>2020</td>\n",
       "      <td>10674</td>\n",
       "    </tr>\n",
       "  </tbody>\n",
       "</table>\n",
       "</div>"
      ],
      "text/plain": [
       "   anio  denuncias_anio\n",
       "0  2016           18558\n",
       "1  2017           18435\n",
       "2  2018           19933\n",
       "3  2019           25776\n",
       "4  2020           10674"
      ]
     },
     "execution_count": 39,
     "metadata": {},
     "output_type": "execute_result"
    }
   ],
   "source": [
    "df5"
   ]
  },
  {
   "cell_type": "code",
   "execution_count": 40,
   "metadata": {},
   "outputs": [],
   "source": [
    "#Guardo el archivo\n",
    "\n",
    "df5.to_csv(\"denuncias_al_anio\")"
   ]
  },
  {
   "cell_type": "code",
   "execution_count": null,
   "metadata": {},
   "outputs": [],
   "source": []
  },
  {
   "cell_type": "code",
   "execution_count": null,
   "metadata": {},
   "outputs": [],
   "source": []
  },
  {
   "cell_type": "code",
   "execution_count": null,
   "metadata": {},
   "outputs": [],
   "source": [
    "##Ahora queremos otro data frame con el número de denuncias anuales por alcaldía: "
   ]
  },
  {
   "cell_type": "code",
   "execution_count": 105,
   "metadata": {},
   "outputs": [
    {
     "name": "stdout",
     "output_type": "stream",
     "text": [
      "     anio        mes    alcaldia  numero_denuncias\n",
      "946  2019  Noviembre  XOCHIMILCO                93\n",
      "947  2019  Diciembre  XOCHIMILCO                97\n",
      "948  2020      Enero  XOCHIMILCO                94\n",
      "949  2020    Febrero  XOCHIMILCO               114\n",
      "950  2020      Marzo  XOCHIMILCO               162\n",
      "951  2020      Abril  XOCHIMILCO               109\n",
      "952  2020       Mayo  XOCHIMILCO                96\n"
     ]
    }
   ],
   "source": [
    "print(df4.tail(7))"
   ]
  },
  {
   "cell_type": "code",
   "execution_count": 137,
   "metadata": {},
   "outputs": [],
   "source": [
    "denuncias_por_alcaldia=df4.groupby([\"anio\",\"alcaldia\"]).numero_denuncias.sum()"
   ]
  },
  {
   "cell_type": "code",
   "execution_count": 138,
   "metadata": {},
   "outputs": [
    {
     "name": "stdout",
     "output_type": "stream",
     "text": [
      "anio  alcaldia              \n",
      "2016  ALVARO OBREGON            1330\n",
      "      AZCAPOTZALCO               794\n",
      "      BENITO JUAREZ              729\n",
      "      COYOACAN                  1276\n",
      "      CUAJIMALPA DE MORELOS      280\n",
      "      CUAUHTEMOC                1521\n",
      "      GUSTAVO A MADERO          1934\n",
      "      IZTACALCO                 1216\n",
      "      IZTAPALAPA                3981\n",
      "      LA MAGDALENA CONTRERAS     602\n",
      "      MIGUEL HIDALGO             620\n",
      "      MILPA ALTA                 236\n",
      "      TLAHUAC                    744\n",
      "      TLALPAN                   1411\n",
      "      VENUSTIANO CARRANZA        984\n",
      "      XOCHIMILCO                 900\n",
      "2017  ALVARO OBREGON            1224\n",
      "      AZCAPOTZALCO               824\n",
      "      BENITO JUAREZ              763\n",
      "Name: numero_denuncias, dtype: int64\n"
     ]
    }
   ],
   "source": [
    "print(denuncias_por_alcaldia.head(19))"
   ]
  },
  {
   "cell_type": "code",
   "execution_count": 139,
   "metadata": {},
   "outputs": [
    {
     "data": {
      "text/plain": [
       "pandas.core.series.Series"
      ]
     },
     "execution_count": 139,
     "metadata": {},
     "output_type": "execute_result"
    }
   ],
   "source": [
    "type(denuncias_por_alcaldia)"
   ]
  },
  {
   "cell_type": "code",
   "execution_count": 140,
   "metadata": {},
   "outputs": [],
   "source": [
    "denuncias_por_alcaldia=denuncias_por_alcaldia.reset_index()"
   ]
  },
  {
   "cell_type": "code",
   "execution_count": 141,
   "metadata": {},
   "outputs": [
    {
     "data": {
      "text/plain": [
       "pandas.core.frame.DataFrame"
      ]
     },
     "execution_count": 141,
     "metadata": {},
     "output_type": "execute_result"
    }
   ],
   "source": [
    "type(denuncias_por_alcaldia)"
   ]
  },
  {
   "cell_type": "code",
   "execution_count": 142,
   "metadata": {},
   "outputs": [
    {
     "data": {
      "text/plain": [
       "Index(['anio', 'alcaldia', 'numero_denuncias'], dtype='object')"
      ]
     },
     "execution_count": 142,
     "metadata": {},
     "output_type": "execute_result"
    }
   ],
   "source": [
    "denuncias_por_alcaldia.columns"
   ]
  },
  {
   "cell_type": "code",
   "execution_count": 143,
   "metadata": {},
   "outputs": [
    {
     "name": "stdout",
     "output_type": "stream",
     "text": [
      "    anio                alcaldia  numero_denuncias\n",
      "0   2016          ALVARO OBREGON              1330\n",
      "1   2016            AZCAPOTZALCO               794\n",
      "2   2016           BENITO JUAREZ               729\n",
      "3   2016                COYOACAN              1276\n",
      "4   2016   CUAJIMALPA DE MORELOS               280\n",
      "5   2016              CUAUHTEMOC              1521\n",
      "6   2016        GUSTAVO A MADERO              1934\n",
      "7   2016               IZTACALCO              1216\n",
      "8   2016              IZTAPALAPA              3981\n",
      "9   2016  LA MAGDALENA CONTRERAS               602\n",
      "10  2016          MIGUEL HIDALGO               620\n",
      "11  2016              MILPA ALTA               236\n",
      "12  2016                 TLAHUAC               744\n",
      "13  2016                 TLALPAN              1411\n",
      "14  2016     VENUSTIANO CARRANZA               984\n",
      "15  2016              XOCHIMILCO               900\n",
      "16  2017          ALVARO OBREGON              1224\n",
      "17  2017            AZCAPOTZALCO               824\n",
      "18  2017           BENITO JUAREZ               763\n"
     ]
    }
   ],
   "source": [
    "print(denuncias_por_alcaldia.head(19))"
   ]
  },
  {
   "cell_type": "code",
   "execution_count": null,
   "metadata": {},
   "outputs": [],
   "source": []
  },
  {
   "cell_type": "code",
   "execution_count": 144,
   "metadata": {},
   "outputs": [],
   "source": [
    "denuncias_por_alcaldia.to_csv(\"Denuncias_por_alcaldia\")"
   ]
  },
  {
   "cell_type": "code",
   "execution_count": 145,
   "metadata": {},
   "outputs": [],
   "source": [
    "promedio_denuncias_alcaldia=denuncias_por_alcaldia"
   ]
  },
  {
   "cell_type": "code",
   "execution_count": 148,
   "metadata": {},
   "outputs": [],
   "source": [
    "promedio_denuncias_alcaldia[\"promedio_mensual_denuncias\"]=promedio_denuncias_alcaldia[\"numero_denuncias\"].div(12)"
   ]
  },
  {
   "cell_type": "code",
   "execution_count": 149,
   "metadata": {},
   "outputs": [
    {
     "name": "stdout",
     "output_type": "stream",
     "text": [
      "    anio                alcaldia  numero_denuncias  promedio_mensual_denuncias\n",
      "0   2016          ALVARO OBREGON              1330                  110.833333\n",
      "1   2016            AZCAPOTZALCO               794                   66.166667\n",
      "2   2016           BENITO JUAREZ               729                   60.750000\n",
      "3   2016                COYOACAN              1276                  106.333333\n",
      "4   2016   CUAJIMALPA DE MORELOS               280                   23.333333\n",
      "5   2016              CUAUHTEMOC              1521                  126.750000\n",
      "6   2016        GUSTAVO A MADERO              1934                  161.166667\n",
      "7   2016               IZTACALCO              1216                  101.333333\n",
      "8   2016              IZTAPALAPA              3981                  331.750000\n",
      "9   2016  LA MAGDALENA CONTRERAS               602                   50.166667\n",
      "10  2016          MIGUEL HIDALGO               620                   51.666667\n",
      "11  2016              MILPA ALTA               236                   19.666667\n",
      "12  2016                 TLAHUAC               744                   62.000000\n",
      "13  2016                 TLALPAN              1411                  117.583333\n",
      "14  2016     VENUSTIANO CARRANZA               984                   82.000000\n",
      "15  2016              XOCHIMILCO               900                   75.000000\n",
      "16  2017          ALVARO OBREGON              1224                  102.000000\n",
      "17  2017            AZCAPOTZALCO               824                   68.666667\n",
      "18  2017           BENITO JUAREZ               763                   63.583333\n"
     ]
    }
   ],
   "source": [
    "print(promedio_denuncias_alcaldia.head(19))"
   ]
  },
  {
   "cell_type": "code",
   "execution_count": 150,
   "metadata": {},
   "outputs": [],
   "source": [
    "promedio_denuncias_alcaldia.to_csv(\"Promedio_denuncias_alcaldia\")"
   ]
  },
  {
   "cell_type": "code",
   "execution_count": null,
   "metadata": {},
   "outputs": [],
   "source": []
  }
 ],
 "metadata": {
  "kernelspec": {
   "display_name": "Python 3",
   "language": "python",
   "name": "python3"
  },
  "language_info": {
   "codemirror_mode": {
    "name": "ipython",
    "version": 3
   },
   "file_extension": ".py",
   "mimetype": "text/x-python",
   "name": "python",
   "nbconvert_exporter": "python",
   "pygments_lexer": "ipython3",
   "version": "3.7.3"
  }
 },
 "nbformat": 4,
 "nbformat_minor": 2
}
