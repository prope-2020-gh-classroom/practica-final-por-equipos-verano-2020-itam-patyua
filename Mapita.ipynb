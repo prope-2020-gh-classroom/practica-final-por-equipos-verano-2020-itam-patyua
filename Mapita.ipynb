{
 "cells": [
  {
   "cell_type": "code",
   "execution_count": 9,
   "metadata": {},
   "outputs": [],
   "source": [
    "import os\n",
    "import matplotlib.pyplot as plt\n",
    "import geopandas as gpd"
   ]
  },
  {
   "cell_type": "code",
   "execution_count": 10,
   "metadata": {},
   "outputs": [
    {
     "name": "stdout",
     "output_type": "stream",
     "text": [
      "coloniascdmx.dbf  coloniascdmx.prj  coloniascdmx.shp  coloniascdmx.shx\n"
     ]
    }
   ],
   "source": [
    "ls"
   ]
  },
  {
   "cell_type": "code",
   "execution_count": 11,
   "metadata": {},
   "outputs": [
    {
     "name": "stdout",
     "output_type": "stream",
     "text": [
      "[Errno 2] No such file or directory: 'shapes'\n",
      "/home/jovyan/midirectorio/shapes\n"
     ]
    }
   ],
   "source": [
    "cd shapes"
   ]
  },
  {
   "cell_type": "code",
   "execution_count": 12,
   "metadata": {},
   "outputs": [
    {
     "name": "stdout",
     "output_type": "stream",
     "text": [
      "coloniascdmx.dbf  coloniascdmx.prj  coloniascdmx.shp  coloniascdmx.shx\n"
     ]
    }
   ],
   "source": [
    "ls"
   ]
  },
  {
   "cell_type": "code",
   "execution_count": 13,
   "metadata": {},
   "outputs": [],
   "source": [
    "colonias = gpd.read_file(\"coloniascdmx.shp\")"
   ]
  },
  {
   "cell_type": "code",
   "execution_count": 14,
   "metadata": {},
   "outputs": [
    {
     "data": {
      "text/html": [
       "<div>\n",
       "<style scoped>\n",
       "    .dataframe tbody tr th:only-of-type {\n",
       "        vertical-align: middle;\n",
       "    }\n",
       "\n",
       "    .dataframe tbody tr th {\n",
       "        vertical-align: top;\n",
       "    }\n",
       "\n",
       "    .dataframe thead th {\n",
       "        text-align: right;\n",
       "    }\n",
       "</style>\n",
       "<table border=\"1\" class=\"dataframe\">\n",
       "  <thead>\n",
       "    <tr style=\"text-align: right;\">\n",
       "      <th></th>\n",
       "      <th>nombre</th>\n",
       "      <th>entidad</th>\n",
       "      <th>cve_alc</th>\n",
       "      <th>alcaldia</th>\n",
       "      <th>cve_col</th>\n",
       "      <th>secc_com</th>\n",
       "      <th>secc_par</th>\n",
       "      <th>geometry</th>\n",
       "    </tr>\n",
       "  </thead>\n",
       "  <tbody>\n",
       "    <tr>\n",
       "      <th>0</th>\n",
       "      <td>LOMAS DE CHAPULTEPEC</td>\n",
       "      <td>9.0</td>\n",
       "      <td>16.0</td>\n",
       "      <td>MIGUEL HIDALGO</td>\n",
       "      <td>16-042</td>\n",
       "      <td>4924, 4931, 4932, 4935, 4936, 4940, 4987</td>\n",
       "      <td>4923, 4937, 4938, 4939, 4942</td>\n",
       "      <td>POLYGON ((-99.22017 19.42803, -99.22009 19.428...</td>\n",
       "    </tr>\n",
       "    <tr>\n",
       "      <th>1</th>\n",
       "      <td>LOMAS DE REFORMA (LOMAS DE CHAPULTEPEC)</td>\n",
       "      <td>9.0</td>\n",
       "      <td>16.0</td>\n",
       "      <td>MIGUEL HIDALGO</td>\n",
       "      <td>16-044</td>\n",
       "      <td>4963</td>\n",
       "      <td>4964</td>\n",
       "      <td>POLYGON ((-99.22967 19.41406, -99.22970 19.413...</td>\n",
       "    </tr>\n",
       "    <tr>\n",
       "      <th>2</th>\n",
       "      <td>DEL BOSQUE (POLANCO)</td>\n",
       "      <td>9.0</td>\n",
       "      <td>16.0</td>\n",
       "      <td>MIGUEL HIDALGO</td>\n",
       "      <td>16-026</td>\n",
       "      <td>None</td>\n",
       "      <td>4918, 4919</td>\n",
       "      <td>POLYGON ((-99.20821 19.43282, -99.20813 19.432...</td>\n",
       "    </tr>\n",
       "    <tr>\n",
       "      <th>3</th>\n",
       "      <td>PEDREGAL DE SANTA URSULA I</td>\n",
       "      <td>9.0</td>\n",
       "      <td>3.0</td>\n",
       "      <td>COYOACAN</td>\n",
       "      <td>03-135</td>\n",
       "      <td>433, 500, 431, 513, 501</td>\n",
       "      <td>424, 425, 426, 430, 499</td>\n",
       "      <td>POLYGON ((-99.14587 19.31979, -99.14579 19.319...</td>\n",
       "    </tr>\n",
       "    <tr>\n",
       "      <th>4</th>\n",
       "      <td>AJUSCO I</td>\n",
       "      <td>9.0</td>\n",
       "      <td>3.0</td>\n",
       "      <td>COYOACAN</td>\n",
       "      <td>03-128</td>\n",
       "      <td>376, 377, 378, 379, 404, 493,  498</td>\n",
       "      <td>374</td>\n",
       "      <td>POLYGON ((-99.15854 19.33038, -99.15785 19.329...</td>\n",
       "    </tr>\n",
       "    <tr>\n",
       "      <th>5</th>\n",
       "      <td>VISTAS DEL MAUREL (U HAB)</td>\n",
       "      <td>9.0</td>\n",
       "      <td>3.0</td>\n",
       "      <td>COYOACAN</td>\n",
       "      <td>03-124</td>\n",
       "      <td>477</td>\n",
       "      <td>None</td>\n",
       "      <td>POLYGON ((-99.17469 19.30575, -99.17470 19.305...</td>\n",
       "    </tr>\n",
       "  </tbody>\n",
       "</table>\n",
       "</div>"
      ],
      "text/plain": [
       "                                    nombre  entidad  cve_alc        alcaldia  \\\n",
       "0                     LOMAS DE CHAPULTEPEC      9.0     16.0  MIGUEL HIDALGO   \n",
       "1  LOMAS DE REFORMA (LOMAS DE CHAPULTEPEC)      9.0     16.0  MIGUEL HIDALGO   \n",
       "2                     DEL BOSQUE (POLANCO)      9.0     16.0  MIGUEL HIDALGO   \n",
       "3               PEDREGAL DE SANTA URSULA I      9.0      3.0        COYOACAN   \n",
       "4                                 AJUSCO I      9.0      3.0        COYOACAN   \n",
       "5                VISTAS DEL MAUREL (U HAB)      9.0      3.0        COYOACAN   \n",
       "\n",
       "  cve_col                                  secc_com  \\\n",
       "0  16-042  4924, 4931, 4932, 4935, 4936, 4940, 4987   \n",
       "1  16-044                                      4963   \n",
       "2  16-026                                      None   \n",
       "3  03-135                   433, 500, 431, 513, 501   \n",
       "4  03-128        376, 377, 378, 379, 404, 493,  498   \n",
       "5  03-124                                       477   \n",
       "\n",
       "                       secc_par  \\\n",
       "0  4923, 4937, 4938, 4939, 4942   \n",
       "1                          4964   \n",
       "2                    4918, 4919   \n",
       "3       424, 425, 426, 430, 499   \n",
       "4                           374   \n",
       "5                          None   \n",
       "\n",
       "                                            geometry  \n",
       "0  POLYGON ((-99.22017 19.42803, -99.22009 19.428...  \n",
       "1  POLYGON ((-99.22967 19.41406, -99.22970 19.413...  \n",
       "2  POLYGON ((-99.20821 19.43282, -99.20813 19.432...  \n",
       "3  POLYGON ((-99.14587 19.31979, -99.14579 19.319...  \n",
       "4  POLYGON ((-99.15854 19.33038, -99.15785 19.329...  \n",
       "5  POLYGON ((-99.17469 19.30575, -99.17470 19.305...  "
      ]
     },
     "execution_count": 14,
     "metadata": {},
     "output_type": "execute_result"
    }
   ],
   "source": [
    "colonias.head(6)"
   ]
  },
  {
   "cell_type": "code",
   "execution_count": null,
   "metadata": {},
   "outputs": [],
   "source": []
  }
 ],
 "metadata": {
  "kernelspec": {
   "display_name": "Python 3",
   "language": "python",
   "name": "python3"
  },
  "language_info": {
   "codemirror_mode": {
    "name": "ipython",
    "version": 3
   },
   "file_extension": ".py",
   "mimetype": "text/x-python",
   "name": "python",
   "nbconvert_exporter": "python",
   "pygments_lexer": "ipython3",
   "version": "3.6.9"
  }
 },
 "nbformat": 4,
 "nbformat_minor": 4
}
