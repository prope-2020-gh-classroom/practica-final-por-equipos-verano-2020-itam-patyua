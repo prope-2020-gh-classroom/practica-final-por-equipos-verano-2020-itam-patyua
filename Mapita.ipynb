{
 "cells": [
  {
   "cell_type": "code",
   "execution_count": 1,
   "metadata": {},
   "outputs": [],
   "source": [
    "# correr desde la terminal el comando <pip install geopandas>\n",
    "# correr desde la terminal el comando <pip install descartes>\n",
    "import os\n",
    "import matplotlib.pyplot as plt\n",
    "import geopandas as gpd\n",
    "import pandas as pd\n",
    "import numpy as np\n",
    "from geopandas import GeoDataFrame as gdf"
   ]
  },
  {
   "cell_type": "code",
   "execution_count": 2,
   "metadata": {},
   "outputs": [],
   "source": [
    "coord = pd.read_csv('coord.csv')"
   ]
  },
  {
   "cell_type": "code",
   "execution_count": 3,
   "metadata": {},
   "outputs": [
    {
     "data": {
      "text/html": [
       "<div>\n",
       "<style scoped>\n",
       "    .dataframe tbody tr th:only-of-type {\n",
       "        vertical-align: middle;\n",
       "    }\n",
       "\n",
       "    .dataframe tbody tr th {\n",
       "        vertical-align: top;\n",
       "    }\n",
       "\n",
       "    .dataframe thead th {\n",
       "        text-align: right;\n",
       "    }\n",
       "</style>\n",
       "<table border=\"1\" class=\"dataframe\">\n",
       "  <thead>\n",
       "    <tr style=\"text-align: right;\">\n",
       "      <th></th>\n",
       "      <th>n</th>\n",
       "      <th>ao_inicio</th>\n",
       "      <th>x</th>\n",
       "      <th>y</th>\n",
       "      <th>geopoint</th>\n",
       "    </tr>\n",
       "  </thead>\n",
       "  <tbody>\n",
       "    <tr>\n",
       "      <th>0</th>\n",
       "      <td>1</td>\n",
       "      <td>2016</td>\n",
       "      <td>19.484049</td>\n",
       "      <td>-99.182773</td>\n",
       "      <td>19.4840488389,-99.1827730654</td>\n",
       "    </tr>\n",
       "    <tr>\n",
       "      <th>1</th>\n",
       "      <td>2</td>\n",
       "      <td>2016</td>\n",
       "      <td>19.440357</td>\n",
       "      <td>-99.173618</td>\n",
       "      <td>19.4403565998,-99.1736176</td>\n",
       "    </tr>\n",
       "    <tr>\n",
       "      <th>2</th>\n",
       "      <td>3</td>\n",
       "      <td>2016</td>\n",
       "      <td>19.399237</td>\n",
       "      <td>-99.192709</td>\n",
       "      <td>19.3992374679,-99.1927092929</td>\n",
       "    </tr>\n",
       "    <tr>\n",
       "      <th>3</th>\n",
       "      <td>4</td>\n",
       "      <td>2016</td>\n",
       "      <td>19.366661</td>\n",
       "      <td>-99.169106</td>\n",
       "      <td>19.3666607724,-99.1691056856</td>\n",
       "    </tr>\n",
       "    <tr>\n",
       "      <th>4</th>\n",
       "      <td>5</td>\n",
       "      <td>2016</td>\n",
       "      <td>19.243469</td>\n",
       "      <td>-99.173013</td>\n",
       "      <td>19.2434687338,-99.1730127583</td>\n",
       "    </tr>\n",
       "    <tr>\n",
       "      <th>...</th>\n",
       "      <td>...</td>\n",
       "      <td>...</td>\n",
       "      <td>...</td>\n",
       "      <td>...</td>\n",
       "      <td>...</td>\n",
       "    </tr>\n",
       "    <tr>\n",
       "      <th>431063</th>\n",
       "      <td>431064</td>\n",
       "      <td>2019</td>\n",
       "      <td>19.374620</td>\n",
       "      <td>-99.007530</td>\n",
       "      <td>19.37462,-99.00753</td>\n",
       "    </tr>\n",
       "    <tr>\n",
       "      <th>431064</th>\n",
       "      <td>431065</td>\n",
       "      <td>2019</td>\n",
       "      <td>19.377900</td>\n",
       "      <td>-99.018790</td>\n",
       "      <td>19.3779,-99.01879</td>\n",
       "    </tr>\n",
       "    <tr>\n",
       "      <th>431065</th>\n",
       "      <td>431066</td>\n",
       "      <td>2019</td>\n",
       "      <td>19.437390</td>\n",
       "      <td>-99.146680</td>\n",
       "      <td>19.43739,-99.14668</td>\n",
       "    </tr>\n",
       "    <tr>\n",
       "      <th>431066</th>\n",
       "      <td>431067</td>\n",
       "      <td>2019</td>\n",
       "      <td>19.421210</td>\n",
       "      <td>-99.149570</td>\n",
       "      <td>19.42121,-99.14957</td>\n",
       "    </tr>\n",
       "    <tr>\n",
       "      <th>431067</th>\n",
       "      <td>431068</td>\n",
       "      <td>2019</td>\n",
       "      <td>19.441500</td>\n",
       "      <td>-99.171130</td>\n",
       "      <td>19.4415,-99.17113</td>\n",
       "    </tr>\n",
       "  </tbody>\n",
       "</table>\n",
       "<p>431068 rows × 5 columns</p>\n",
       "</div>"
      ],
      "text/plain": [
       "             n  ao_inicio          x          y                      geopoint\n",
       "0            1       2016  19.484049 -99.182773  19.4840488389,-99.1827730654\n",
       "1            2       2016  19.440357 -99.173618     19.4403565998,-99.1736176\n",
       "2            3       2016  19.399237 -99.192709  19.3992374679,-99.1927092929\n",
       "3            4       2016  19.366661 -99.169106  19.3666607724,-99.1691056856\n",
       "4            5       2016  19.243469 -99.173013  19.2434687338,-99.1730127583\n",
       "...        ...        ...        ...        ...                           ...\n",
       "431063  431064       2019  19.374620 -99.007530            19.37462,-99.00753\n",
       "431064  431065       2019  19.377900 -99.018790             19.3779,-99.01879\n",
       "431065  431066       2019  19.437390 -99.146680            19.43739,-99.14668\n",
       "431066  431067       2019  19.421210 -99.149570            19.42121,-99.14957\n",
       "431067  431068       2019  19.441500 -99.171130             19.4415,-99.17113\n",
       "\n",
       "[431068 rows x 5 columns]"
      ]
     },
     "execution_count": 3,
     "metadata": {},
     "output_type": "execute_result"
    }
   ],
   "source": [
    "coord"
   ]
  },
  {
   "cell_type": "code",
   "execution_count": 4,
   "metadata": {},
   "outputs": [
    {
     "data": {
      "text/plain": [
       "pandas.core.frame.DataFrame"
      ]
     },
     "execution_count": 4,
     "metadata": {},
     "output_type": "execute_result"
    }
   ],
   "source": [
    "type(coord)"
   ]
  },
  {
   "cell_type": "code",
   "execution_count": 5,
   "metadata": {},
   "outputs": [],
   "source": [
    "points= gdf(coord, geometry=gpd.points_from_xy(coord.x, coord.y))"
   ]
  },
  {
   "cell_type": "code",
   "execution_count": 6,
   "metadata": {},
   "outputs": [
    {
     "data": {
      "text/html": [
       "<div>\n",
       "<style scoped>\n",
       "    .dataframe tbody tr th:only-of-type {\n",
       "        vertical-align: middle;\n",
       "    }\n",
       "\n",
       "    .dataframe tbody tr th {\n",
       "        vertical-align: top;\n",
       "    }\n",
       "\n",
       "    .dataframe thead th {\n",
       "        text-align: right;\n",
       "    }\n",
       "</style>\n",
       "<table border=\"1\" class=\"dataframe\">\n",
       "  <thead>\n",
       "    <tr style=\"text-align: right;\">\n",
       "      <th></th>\n",
       "      <th>n</th>\n",
       "      <th>ao_inicio</th>\n",
       "      <th>x</th>\n",
       "      <th>y</th>\n",
       "      <th>geopoint</th>\n",
       "      <th>geometry</th>\n",
       "    </tr>\n",
       "  </thead>\n",
       "  <tbody>\n",
       "    <tr>\n",
       "      <th>0</th>\n",
       "      <td>1</td>\n",
       "      <td>2016</td>\n",
       "      <td>19.484049</td>\n",
       "      <td>-99.182773</td>\n",
       "      <td>19.4840488389,-99.1827730654</td>\n",
       "      <td>POINT (19.484 -99.183)</td>\n",
       "    </tr>\n",
       "    <tr>\n",
       "      <th>1</th>\n",
       "      <td>2</td>\n",
       "      <td>2016</td>\n",
       "      <td>19.440357</td>\n",
       "      <td>-99.173618</td>\n",
       "      <td>19.4403565998,-99.1736176</td>\n",
       "      <td>POINT (19.440 -99.174)</td>\n",
       "    </tr>\n",
       "    <tr>\n",
       "      <th>2</th>\n",
       "      <td>3</td>\n",
       "      <td>2016</td>\n",
       "      <td>19.399237</td>\n",
       "      <td>-99.192709</td>\n",
       "      <td>19.3992374679,-99.1927092929</td>\n",
       "      <td>POINT (19.399 -99.193)</td>\n",
       "    </tr>\n",
       "  </tbody>\n",
       "</table>\n",
       "</div>"
      ],
      "text/plain": [
       "   n  ao_inicio          x          y                      geopoint  \\\n",
       "0  1       2016  19.484049 -99.182773  19.4840488389,-99.1827730654   \n",
       "1  2       2016  19.440357 -99.173618     19.4403565998,-99.1736176   \n",
       "2  3       2016  19.399237 -99.192709  19.3992374679,-99.1927092929   \n",
       "\n",
       "                 geometry  \n",
       "0  POINT (19.484 -99.183)  \n",
       "1  POINT (19.440 -99.174)  \n",
       "2  POINT (19.399 -99.193)  "
      ]
     },
     "execution_count": 6,
     "metadata": {},
     "output_type": "execute_result"
    }
   ],
   "source": [
    "points [:3]"
   ]
  },
  {
   "cell_type": "code",
   "execution_count": 7,
   "metadata": {},
   "outputs": [
    {
     "name": "stdout",
     "output_type": "stream",
     "text": [
      " \u001b[0m\u001b[01;34mBases_de_datos\u001b[0m/       Estimaciones.ipynb             LICENSE        coord.csv\n",
      " Descriptivos.ipynb    Estimaciones2.ipynb           'Link base'     \u001b[01;34mshapes\u001b[0m/\n",
      " Descriptivos1.ipynb   Estimaciones_anuales.ipynb     Mapita.ipynb\n",
      " Descriptivos2.ipynb   Estimaciones_mensuales.ipynb   README.md\n"
     ]
    }
   ],
   "source": [
    "ls"
   ]
  },
  {
   "cell_type": "code",
   "execution_count": 8,
   "metadata": {},
   "outputs": [
    {
     "name": "stdout",
     "output_type": "stream",
     "text": [
      "/home/jovyan/midirectorio/shapes\n"
     ]
    }
   ],
   "source": [
    "cd shapes"
   ]
  },
  {
   "cell_type": "code",
   "execution_count": 9,
   "metadata": {},
   "outputs": [
    {
     "name": "stdout",
     "output_type": "stream",
     "text": [
      "coloniascdmx.dbf  coloniascdmx.prj  coloniascdmx.shp  coloniascdmx.shx\n"
     ]
    }
   ],
   "source": [
    "ls"
   ]
  },
  {
   "cell_type": "code",
   "execution_count": 10,
   "metadata": {},
   "outputs": [],
   "source": [
    "colonias = gpd.read_file(\"coloniascdmx.shp\")"
   ]
  },
  {
   "cell_type": "code",
   "execution_count": 11,
   "metadata": {},
   "outputs": [
    {
     "data": {
      "text/html": [
       "<div>\n",
       "<style scoped>\n",
       "    .dataframe tbody tr th:only-of-type {\n",
       "        vertical-align: middle;\n",
       "    }\n",
       "\n",
       "    .dataframe tbody tr th {\n",
       "        vertical-align: top;\n",
       "    }\n",
       "\n",
       "    .dataframe thead th {\n",
       "        text-align: right;\n",
       "    }\n",
       "</style>\n",
       "<table border=\"1\" class=\"dataframe\">\n",
       "  <thead>\n",
       "    <tr style=\"text-align: right;\">\n",
       "      <th></th>\n",
       "      <th>nombre</th>\n",
       "      <th>entidad</th>\n",
       "      <th>cve_alc</th>\n",
       "      <th>alcaldia</th>\n",
       "      <th>cve_col</th>\n",
       "      <th>secc_com</th>\n",
       "      <th>secc_par</th>\n",
       "      <th>geometry</th>\n",
       "    </tr>\n",
       "  </thead>\n",
       "  <tbody>\n",
       "    <tr>\n",
       "      <th>0</th>\n",
       "      <td>LOMAS DE CHAPULTEPEC</td>\n",
       "      <td>9.0</td>\n",
       "      <td>16.0</td>\n",
       "      <td>MIGUEL HIDALGO</td>\n",
       "      <td>16-042</td>\n",
       "      <td>4924, 4931, 4932, 4935, 4936, 4940, 4987</td>\n",
       "      <td>4923, 4937, 4938, 4939, 4942</td>\n",
       "      <td>POLYGON ((-99.22017 19.42803, -99.22009 19.428...</td>\n",
       "    </tr>\n",
       "    <tr>\n",
       "      <th>1</th>\n",
       "      <td>LOMAS DE REFORMA (LOMAS DE CHAPULTEPEC)</td>\n",
       "      <td>9.0</td>\n",
       "      <td>16.0</td>\n",
       "      <td>MIGUEL HIDALGO</td>\n",
       "      <td>16-044</td>\n",
       "      <td>4963</td>\n",
       "      <td>4964</td>\n",
       "      <td>POLYGON ((-99.22967 19.41406, -99.22970 19.413...</td>\n",
       "    </tr>\n",
       "    <tr>\n",
       "      <th>2</th>\n",
       "      <td>DEL BOSQUE (POLANCO)</td>\n",
       "      <td>9.0</td>\n",
       "      <td>16.0</td>\n",
       "      <td>MIGUEL HIDALGO</td>\n",
       "      <td>16-026</td>\n",
       "      <td>None</td>\n",
       "      <td>4918, 4919</td>\n",
       "      <td>POLYGON ((-99.20821 19.43282, -99.20813 19.432...</td>\n",
       "    </tr>\n",
       "    <tr>\n",
       "      <th>3</th>\n",
       "      <td>PEDREGAL DE SANTA URSULA I</td>\n",
       "      <td>9.0</td>\n",
       "      <td>3.0</td>\n",
       "      <td>COYOACAN</td>\n",
       "      <td>03-135</td>\n",
       "      <td>433, 500, 431, 513, 501</td>\n",
       "      <td>424, 425, 426, 430, 499</td>\n",
       "      <td>POLYGON ((-99.14587 19.31979, -99.14579 19.319...</td>\n",
       "    </tr>\n",
       "    <tr>\n",
       "      <th>4</th>\n",
       "      <td>AJUSCO I</td>\n",
       "      <td>9.0</td>\n",
       "      <td>3.0</td>\n",
       "      <td>COYOACAN</td>\n",
       "      <td>03-128</td>\n",
       "      <td>376, 377, 378, 379, 404, 493,  498</td>\n",
       "      <td>374</td>\n",
       "      <td>POLYGON ((-99.15854 19.33038, -99.15785 19.329...</td>\n",
       "    </tr>\n",
       "    <tr>\n",
       "      <th>5</th>\n",
       "      <td>VISTAS DEL MAUREL (U HAB)</td>\n",
       "      <td>9.0</td>\n",
       "      <td>3.0</td>\n",
       "      <td>COYOACAN</td>\n",
       "      <td>03-124</td>\n",
       "      <td>477</td>\n",
       "      <td>None</td>\n",
       "      <td>POLYGON ((-99.17469 19.30575, -99.17470 19.305...</td>\n",
       "    </tr>\n",
       "  </tbody>\n",
       "</table>\n",
       "</div>"
      ],
      "text/plain": [
       "                                    nombre  entidad  cve_alc        alcaldia  \\\n",
       "0                     LOMAS DE CHAPULTEPEC      9.0     16.0  MIGUEL HIDALGO   \n",
       "1  LOMAS DE REFORMA (LOMAS DE CHAPULTEPEC)      9.0     16.0  MIGUEL HIDALGO   \n",
       "2                     DEL BOSQUE (POLANCO)      9.0     16.0  MIGUEL HIDALGO   \n",
       "3               PEDREGAL DE SANTA URSULA I      9.0      3.0        COYOACAN   \n",
       "4                                 AJUSCO I      9.0      3.0        COYOACAN   \n",
       "5                VISTAS DEL MAUREL (U HAB)      9.0      3.0        COYOACAN   \n",
       "\n",
       "  cve_col                                  secc_com  \\\n",
       "0  16-042  4924, 4931, 4932, 4935, 4936, 4940, 4987   \n",
       "1  16-044                                      4963   \n",
       "2  16-026                                      None   \n",
       "3  03-135                   433, 500, 431, 513, 501   \n",
       "4  03-128        376, 377, 378, 379, 404, 493,  498   \n",
       "5  03-124                                       477   \n",
       "\n",
       "                       secc_par  \\\n",
       "0  4923, 4937, 4938, 4939, 4942   \n",
       "1                          4964   \n",
       "2                    4918, 4919   \n",
       "3       424, 425, 426, 430, 499   \n",
       "4                           374   \n",
       "5                          None   \n",
       "\n",
       "                                            geometry  \n",
       "0  POLYGON ((-99.22017 19.42803, -99.22009 19.428...  \n",
       "1  POLYGON ((-99.22967 19.41406, -99.22970 19.413...  \n",
       "2  POLYGON ((-99.20821 19.43282, -99.20813 19.432...  \n",
       "3  POLYGON ((-99.14587 19.31979, -99.14579 19.319...  \n",
       "4  POLYGON ((-99.15854 19.33038, -99.15785 19.329...  \n",
       "5  POLYGON ((-99.17469 19.30575, -99.17470 19.305...  "
      ]
     },
     "execution_count": 11,
     "metadata": {},
     "output_type": "execute_result"
    }
   ],
   "source": [
    "colonias.head(6)"
   ]
  },
  {
   "cell_type": "code",
   "execution_count": 12,
   "metadata": {},
   "outputs": [
    {
     "data": {
      "text/plain": [
       "geopandas.geodataframe.GeoDataFrame"
      ]
     },
     "execution_count": 12,
     "metadata": {},
     "output_type": "execute_result"
    }
   ],
   "source": [
    "type(colonias)"
   ]
  },
  {
   "cell_type": "code",
   "execution_count": 13,
   "metadata": {},
   "outputs": [
    {
     "data": {
      "text/plain": [
       "array([-99.35037823,  19.12798387, -98.94564812,  19.5937813 ])"
      ]
     },
     "execution_count": 13,
     "metadata": {},
     "output_type": "execute_result"
    }
   ],
   "source": [
    "colonias.total_bounds"
   ]
  },
  {
   "cell_type": "code",
   "execution_count": 14,
   "metadata": {},
   "outputs": [
    {
     "data": {
      "text/plain": [
       "<Geographic 2D CRS: EPSG:4326>\n",
       "Name: WGS 84\n",
       "Axis Info [ellipsoidal]:\n",
       "- Lat[north]: Geodetic latitude (degree)\n",
       "- Lon[east]: Geodetic longitude (degree)\n",
       "Area of Use:\n",
       "- name: World\n",
       "- bounds: (-180.0, -90.0, 180.0, 90.0)\n",
       "Datum: World Geodetic System 1984\n",
       "- Ellipsoid: WGS 84\n",
       "- Prime Meridian: Greenwich"
      ]
     },
     "execution_count": 14,
     "metadata": {},
     "output_type": "execute_result"
    }
   ],
   "source": [
    "colonias.crs"
   ]
  },
  {
   "cell_type": "code",
   "execution_count": 15,
   "metadata": {},
   "outputs": [
    {
     "data": {
      "text/plain": [
       "0       Polygon\n",
       "1       Polygon\n",
       "2       Polygon\n",
       "3       Polygon\n",
       "4       Polygon\n",
       "         ...   \n",
       "1807    Polygon\n",
       "1808    Polygon\n",
       "1809    Polygon\n",
       "1810    Polygon\n",
       "1811    Polygon\n",
       "Length: 1812, dtype: object"
      ]
     },
     "execution_count": 15,
     "metadata": {},
     "output_type": "execute_result"
    }
   ],
   "source": [
    "colonias.geom_type"
   ]
  },
  {
   "cell_type": "code",
   "execution_count": 16,
   "metadata": {},
   "outputs": [
    {
     "data": {
      "text/plain": [
       "(1812, 8)"
      ]
     },
     "execution_count": 16,
     "metadata": {},
     "output_type": "execute_result"
    }
   ],
   "source": [
    "colonias.shape"
   ]
  },
  {
   "cell_type": "code",
   "execution_count": 17,
   "metadata": {},
   "outputs": [
    {
     "data": {
      "image/png": "[encoded data removed]",
      "text/plain": [
       "<Figure size 1080x1080 with 1 Axes>"
      ]
     },
     "metadata": {
      "needs_background": "light"
     },
     "output_type": "display_data"
    }
   ],
   "source": [
    "fig, ax = plt.subplots(figsize = (15,15))\n",
    "points[points[\"ao_inicio\"]==2016].plot(ax=ax, markersize=20, color=\"blue\", marker=\"o\", label=\"2016\")\n",
    "points[points[\"ao_inicio\"]==2019].plot(ax=ax, markersize=20, color=\"blue\", marker=\"o\", label=\"2019\")\n",
    "plt.show()"
   ]
  },
  {
   "cell_type": "code",
   "execution_count": null,
   "metadata": {},
   "outputs": [],
   "source": []
  }
 ],
 "metadata": {
  "kernelspec": {
   "display_name": "Python 3",
   "language": "python",
   "name": "python3"
  },
  "language_info": {
   "codemirror_mode": {
    "name": "ipython",
    "version": 3
   },
   "file_extension": ".py",
   "mimetype": "text/x-python",
   "name": "python",
   "nbconvert_exporter": "python",
   "pygments_lexer": "ipython3",
   "version": "3.6.9"
  }
 },
 "nbformat": 4,
 "nbformat_minor": 4
}
