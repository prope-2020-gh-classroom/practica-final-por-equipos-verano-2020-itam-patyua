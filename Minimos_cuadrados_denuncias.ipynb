{
 "cells": [
  {
   "cell_type": "code",
   "execution_count": 1,
   "metadata": {},
   "outputs": [],
   "source": [
    "##Minimos Cuadrados"
   ]
  },
  {
   "cell_type": "code",
   "execution_count": 2,
   "metadata": {},
   "outputs": [],
   "source": [
    "import pandas as pd\n",
    "import numpy as np\n",
    "import matplotlib.pyplot as plt\n",
    "from scipy.interpolate import interp1d"
   ]
  },
  {
   "cell_type": "code",
   "execution_count": null,
   "metadata": {},
   "outputs": [],
   "source": []
  },
  {
   "cell_type": "code",
   "execution_count": 3,
   "metadata": {},
   "outputs": [
    {
     "name": "stdout",
     "output_type": "stream",
     "text": [
      "/Users/sansansansan/Desktop/practica-final-por-equipos-verano-2020-itam-patyua-master/Bases_de_datos\n"
     ]
    }
   ],
   "source": [
    "cd Bases_de_datos"
   ]
  },
  {
   "cell_type": "code",
   "execution_count": 4,
   "metadata": {},
   "outputs": [
    {
     "name": "stdout",
     "output_type": "stream",
     "text": [
      "\u001b[31mBases_de_datos_modificadas_violencia.ipynb\u001b[m\u001b[m*\r\n",
      "\u001b[31mDenuncias_por_alcaldia.csv\u001b[m\u001b[m*\r\n",
      "Pobreza_2015_ok.csv\r\n",
      "Promedio_denuncias_alcaldia.csv\r\n",
      "\u001b[31mREADME.md\u001b[m\u001b[m*\r\n",
      "\u001b[31mVio_fam_2.csv\u001b[m\u001b[m*\r\n",
      "denuncias_2016_2019.csv\r\n",
      "\u001b[31mdenuncias_al_anio.csv\u001b[m\u001b[m*\r\n",
      "\u001b[31mdenuncias_mensuales.csv\u001b[m\u001b[m*\r\n",
      "poblacion_2016.csv\r\n",
      "viol_numero_denuncias_ok\r\n",
      "\u001b[31mviol_numero_denuncias_ok.csv\u001b[m\u001b[m*\r\n"
     ]
    }
   ],
   "source": [
    "ls"
   ]
  },
  {
   "cell_type": "code",
   "execution_count": null,
   "metadata": {},
   "outputs": [],
   "source": []
  },
  {
   "cell_type": "code",
   "execution_count": 11,
   "metadata": {},
   "outputs": [],
   "source": [
    "datos=pd.read_csv(\"denuncias_2016_2019.csv\")"
   ]
  },
  {
   "cell_type": "code",
   "execution_count": 23,
   "metadata": {},
   "outputs": [
    {
     "data": {
      "text/html": [
       "<div>\n",
       "<style scoped>\n",
       "    .dataframe tbody tr th:only-of-type {\n",
       "        vertical-align: middle;\n",
       "    }\n",
       "\n",
       "    .dataframe tbody tr th {\n",
       "        vertical-align: top;\n",
       "    }\n",
       "\n",
       "    .dataframe thead th {\n",
       "        text-align: right;\n",
       "    }\n",
       "</style>\n",
       "<table border=\"1\" class=\"dataframe\">\n",
       "  <thead>\n",
       "    <tr style=\"text-align: right;\">\n",
       "      <th></th>\n",
       "      <th>Unnamed: 0</th>\n",
       "      <th>Unnamed: 0.1</th>\n",
       "      <th>anio</th>\n",
       "      <th>alcaldia</th>\n",
       "      <th>numero_denuncias</th>\n",
       "      <th>poblacion</th>\n",
       "      <th>denuncias_100mil_habitantes</th>\n",
       "      <th>pobreza</th>\n",
       "    </tr>\n",
       "  </thead>\n",
       "  <tbody>\n",
       "    <tr>\n",
       "      <th>0</th>\n",
       "      <td>0</td>\n",
       "      <td>0</td>\n",
       "      <td>2016</td>\n",
       "      <td>ALVARO OBREGON</td>\n",
       "      <td>1330</td>\n",
       "      <td>727034</td>\n",
       "      <td>182.935048</td>\n",
       "      <td>27.9</td>\n",
       "    </tr>\n",
       "    <tr>\n",
       "      <th>1</th>\n",
       "      <td>1</td>\n",
       "      <td>1</td>\n",
       "      <td>2016</td>\n",
       "      <td>AZCAPOTZALCO</td>\n",
       "      <td>794</td>\n",
       "      <td>414711</td>\n",
       "      <td>191.458630</td>\n",
       "      <td>19.5</td>\n",
       "    </tr>\n",
       "    <tr>\n",
       "      <th>2</th>\n",
       "      <td>2</td>\n",
       "      <td>2</td>\n",
       "      <td>2016</td>\n",
       "      <td>BENITO JUAREZ</td>\n",
       "      <td>729</td>\n",
       "      <td>385439</td>\n",
       "      <td>189.134986</td>\n",
       "      <td>5.0</td>\n",
       "    </tr>\n",
       "    <tr>\n",
       "      <th>3</th>\n",
       "      <td>3</td>\n",
       "      <td>3</td>\n",
       "      <td>2016</td>\n",
       "      <td>COYOACAN</td>\n",
       "      <td>1276</td>\n",
       "      <td>620416</td>\n",
       "      <td>205.668455</td>\n",
       "      <td>19.8</td>\n",
       "    </tr>\n",
       "    <tr>\n",
       "      <th>4</th>\n",
       "      <td>4</td>\n",
       "      <td>4</td>\n",
       "      <td>2016</td>\n",
       "      <td>CUAJIMALPA DE MORELOS</td>\n",
       "      <td>280</td>\n",
       "      <td>186391</td>\n",
       "      <td>150.221845</td>\n",
       "      <td>30.1</td>\n",
       "    </tr>\n",
       "    <tr>\n",
       "      <th>5</th>\n",
       "      <td>5</td>\n",
       "      <td>5</td>\n",
       "      <td>2016</td>\n",
       "      <td>CUAUHTEMOC</td>\n",
       "      <td>1521</td>\n",
       "      <td>531831</td>\n",
       "      <td>285.993107</td>\n",
       "      <td>16.0</td>\n",
       "    </tr>\n",
       "    <tr>\n",
       "      <th>6</th>\n",
       "      <td>6</td>\n",
       "      <td>6</td>\n",
       "      <td>2016</td>\n",
       "      <td>GUSTAVO A MADERO</td>\n",
       "      <td>1934</td>\n",
       "      <td>1185772</td>\n",
       "      <td>163.100495</td>\n",
       "      <td>28.4</td>\n",
       "    </tr>\n",
       "    <tr>\n",
       "      <th>7</th>\n",
       "      <td>7</td>\n",
       "      <td>7</td>\n",
       "      <td>2016</td>\n",
       "      <td>IZTACALCO</td>\n",
       "      <td>1216</td>\n",
       "      <td>384326</td>\n",
       "      <td>316.398058</td>\n",
       "      <td>17.1</td>\n",
       "    </tr>\n",
       "    <tr>\n",
       "      <th>8</th>\n",
       "      <td>8</td>\n",
       "      <td>8</td>\n",
       "      <td>2016</td>\n",
       "      <td>IZTAPALAPA</td>\n",
       "      <td>3981</td>\n",
       "      <td>1815786</td>\n",
       "      <td>219.243898</td>\n",
       "      <td>35.0</td>\n",
       "    </tr>\n",
       "    <tr>\n",
       "      <th>9</th>\n",
       "      <td>9</td>\n",
       "      <td>9</td>\n",
       "      <td>2016</td>\n",
       "      <td>LA MAGDALENA CONTRERAS</td>\n",
       "      <td>602</td>\n",
       "      <td>239086</td>\n",
       "      <td>251.792242</td>\n",
       "      <td>32.6</td>\n",
       "    </tr>\n",
       "    <tr>\n",
       "      <th>10</th>\n",
       "      <td>10</td>\n",
       "      <td>10</td>\n",
       "      <td>2016</td>\n",
       "      <td>MIGUEL HIDALGO</td>\n",
       "      <td>620</td>\n",
       "      <td>372889</td>\n",
       "      <td>166.269319</td>\n",
       "      <td>7.1</td>\n",
       "    </tr>\n",
       "    <tr>\n",
       "      <th>11</th>\n",
       "      <td>11</td>\n",
       "      <td>11</td>\n",
       "      <td>2016</td>\n",
       "      <td>MILPA ALTA</td>\n",
       "      <td>236</td>\n",
       "      <td>130582</td>\n",
       "      <td>180.729350</td>\n",
       "      <td>49.2</td>\n",
       "    </tr>\n",
       "    <tr>\n",
       "      <th>12</th>\n",
       "      <td>12</td>\n",
       "      <td>12</td>\n",
       "      <td>2016</td>\n",
       "      <td>TLAHUAC</td>\n",
       "      <td>744</td>\n",
       "      <td>360265</td>\n",
       "      <td>206.514649</td>\n",
       "      <td>39.2</td>\n",
       "    </tr>\n",
       "    <tr>\n",
       "      <th>13</th>\n",
       "      <td>13</td>\n",
       "      <td>13</td>\n",
       "      <td>2016</td>\n",
       "      <td>TLALPAN</td>\n",
       "      <td>1411</td>\n",
       "      <td>650567</td>\n",
       "      <td>216.887730</td>\n",
       "      <td>32.1</td>\n",
       "    </tr>\n",
       "    <tr>\n",
       "      <th>14</th>\n",
       "      <td>14</td>\n",
       "      <td>14</td>\n",
       "      <td>2016</td>\n",
       "      <td>VENUSTIANO CARRANZA</td>\n",
       "      <td>984</td>\n",
       "      <td>430978</td>\n",
       "      <td>228.317919</td>\n",
       "      <td>22.8</td>\n",
       "    </tr>\n",
       "    <tr>\n",
       "      <th>15</th>\n",
       "      <td>15</td>\n",
       "      <td>15</td>\n",
       "      <td>2016</td>\n",
       "      <td>XOCHIMILCO</td>\n",
       "      <td>900</td>\n",
       "      <td>415007</td>\n",
       "      <td>216.863812</td>\n",
       "      <td>40.5</td>\n",
       "    </tr>\n",
       "    <tr>\n",
       "      <th>16</th>\n",
       "      <td>16</td>\n",
       "      <td>16</td>\n",
       "      <td>2017</td>\n",
       "      <td>ALVARO OBREGON</td>\n",
       "      <td>1224</td>\n",
       "      <td>727034</td>\n",
       "      <td>168.355263</td>\n",
       "      <td>27.9</td>\n",
       "    </tr>\n",
       "    <tr>\n",
       "      <th>17</th>\n",
       "      <td>17</td>\n",
       "      <td>17</td>\n",
       "      <td>2017</td>\n",
       "      <td>AZCAPOTZALCO</td>\n",
       "      <td>824</td>\n",
       "      <td>414711</td>\n",
       "      <td>198.692584</td>\n",
       "      <td>19.5</td>\n",
       "    </tr>\n",
       "    <tr>\n",
       "      <th>18</th>\n",
       "      <td>18</td>\n",
       "      <td>18</td>\n",
       "      <td>2017</td>\n",
       "      <td>BENITO JUAREZ</td>\n",
       "      <td>763</td>\n",
       "      <td>385439</td>\n",
       "      <td>197.956097</td>\n",
       "      <td>5.0</td>\n",
       "    </tr>\n",
       "    <tr>\n",
       "      <th>19</th>\n",
       "      <td>19</td>\n",
       "      <td>19</td>\n",
       "      <td>2017</td>\n",
       "      <td>COYOACAN</td>\n",
       "      <td>1184</td>\n",
       "      <td>620416</td>\n",
       "      <td>190.839695</td>\n",
       "      <td>19.8</td>\n",
       "    </tr>\n",
       "  </tbody>\n",
       "</table>\n",
       "</div>"
      ],
      "text/plain": [
       "    Unnamed: 0  Unnamed: 0.1  anio                alcaldia  numero_denuncias  \\\n",
       "0            0             0  2016          ALVARO OBREGON              1330   \n",
       "1            1             1  2016            AZCAPOTZALCO               794   \n",
       "2            2             2  2016           BENITO JUAREZ               729   \n",
       "3            3             3  2016                COYOACAN              1276   \n",
       "4            4             4  2016   CUAJIMALPA DE MORELOS               280   \n",
       "5            5             5  2016              CUAUHTEMOC              1521   \n",
       "6            6             6  2016        GUSTAVO A MADERO              1934   \n",
       "7            7             7  2016               IZTACALCO              1216   \n",
       "8            8             8  2016              IZTAPALAPA              3981   \n",
       "9            9             9  2016  LA MAGDALENA CONTRERAS               602   \n",
       "10          10            10  2016          MIGUEL HIDALGO               620   \n",
       "11          11            11  2016              MILPA ALTA               236   \n",
       "12          12            12  2016                 TLAHUAC               744   \n",
       "13          13            13  2016                 TLALPAN              1411   \n",
       "14          14            14  2016     VENUSTIANO CARRANZA               984   \n",
       "15          15            15  2016              XOCHIMILCO               900   \n",
       "16          16            16  2017          ALVARO OBREGON              1224   \n",
       "17          17            17  2017            AZCAPOTZALCO               824   \n",
       "18          18            18  2017           BENITO JUAREZ               763   \n",
       "19          19            19  2017                COYOACAN              1184   \n",
       "\n",
       "    poblacion  denuncias_100mil_habitantes  pobreza  \n",
       "0      727034                   182.935048     27.9  \n",
       "1      414711                   191.458630     19.5  \n",
       "2      385439                   189.134986      5.0  \n",
       "3      620416                   205.668455     19.8  \n",
       "4      186391                   150.221845     30.1  \n",
       "5      531831                   285.993107     16.0  \n",
       "6     1185772                   163.100495     28.4  \n",
       "7      384326                   316.398058     17.1  \n",
       "8     1815786                   219.243898     35.0  \n",
       "9      239086                   251.792242     32.6  \n",
       "10     372889                   166.269319      7.1  \n",
       "11     130582                   180.729350     49.2  \n",
       "12     360265                   206.514649     39.2  \n",
       "13     650567                   216.887730     32.1  \n",
       "14     430978                   228.317919     22.8  \n",
       "15     415007                   216.863812     40.5  \n",
       "16     727034                   168.355263     27.9  \n",
       "17     414711                   198.692584     19.5  \n",
       "18     385439                   197.956097      5.0  \n",
       "19     620416                   190.839695     19.8  "
      ]
     },
     "execution_count": 23,
     "metadata": {},
     "output_type": "execute_result"
    }
   ],
   "source": [
    "datos.head(20)"
   ]
  },
  {
   "cell_type": "code",
   "execution_count": 13,
   "metadata": {},
   "outputs": [],
   "source": [
    "x=np.array(datos.denuncias_100mil_habitantes)\n",
    "x2=np.array(datos.numero_denuncias)"
   ]
  },
  {
   "cell_type": "code",
   "execution_count": 14,
   "metadata": {},
   "outputs": [
    {
     "name": "stdout",
     "output_type": "stream",
     "text": [
      "[182.93504843 191.45863023 189.13498634 205.66845471 150.22184548\n",
      " 285.99310683 163.10049487 316.3980579  219.24389768 251.79224212\n",
      " 166.26931875 180.72935014 206.51464894 216.88773024 228.31791878\n",
      " 216.86381194 168.35526261 198.69258351 197.95609681 190.83969466\n",
      " 155.05040479 263.24151845 171.02781985 298.96494122 203.21778007\n",
      " 286.08952427 156.88314753 211.36144338 221.50361539 229.49211995\n",
      " 219.26873297 265.77864952 212.23216521 221.35897046 220.52776185\n",
      " 216.79002476 199.58045185 321.53071182 177.60581292 327.84667184\n",
      " 185.09890483 348.41019549 156.07861857 263.4360019  252.86941557\n",
      " 246.24673554 281.45288159 236.86347459 279.62928831 301.89698368\n",
      " 251.92053736 261.27630493 295.61513163 405.0158791  260.42105902\n",
      " 401.48207511 255.31643046 376.85184411 241.35868851 316.27636275\n",
      " 296.44844767 290.66952366 364.28773626 285.29639259]\n"
     ]
    }
   ],
   "source": [
    "print(x)"
   ]
  },
  {
   "cell_type": "code",
   "execution_count": 15,
   "metadata": {},
   "outputs": [
    {
     "data": {
      "text/plain": [
       "(64,)"
      ]
     },
     "execution_count": 15,
     "metadata": {},
     "output_type": "execute_result"
    }
   ],
   "source": [
    "x.shape"
   ]
  },
  {
   "cell_type": "code",
   "execution_count": 16,
   "metadata": {},
   "outputs": [],
   "source": [
    "y=np.array(datos.pobreza)"
   ]
  },
  {
   "cell_type": "code",
   "execution_count": 17,
   "metadata": {},
   "outputs": [
    {
     "data": {
      "text/plain": [
       "(64,)"
      ]
     },
     "execution_count": 17,
     "metadata": {},
     "output_type": "execute_result"
    }
   ],
   "source": [
    "y.shape"
   ]
  },
  {
   "cell_type": "code",
   "execution_count": 18,
   "metadata": {},
   "outputs": [
    {
     "data": {
      "image/png": "[encoded data removed]",
      "text/plain": [
       "<Figure size 432x288 with 1 Axes>"
      ]
     },
     "metadata": {
      "needs_background": "light"
     },
     "output_type": "display_data"
    }
   ],
   "source": [
    "plt.plot(x,y, 'r*')\n",
    "plt.xlabel('denuncias_100mil')\n",
    "plt.ylabel('pobreza')\n",
    "plt.title('denuncias y pobreza')\n",
    "plt.show()"
   ]
  },
  {
   "cell_type": "code",
   "execution_count": 19,
   "metadata": {},
   "outputs": [],
   "source": [
    "ndegree = 1\n",
    "coefficients = np.polyfit(x,y,ndegree)"
   ]
  },
  {
   "cell_type": "code",
   "execution_count": 20,
   "metadata": {},
   "outputs": [
    {
     "name": "stdout",
     "output_type": "stream",
     "text": [
      "[6.15742739e-03 2.48966346e+01]\n"
     ]
    }
   ],
   "source": [
    "print(coefficients)"
   ]
  },
  {
   "cell_type": "code",
   "execution_count": 21,
   "metadata": {},
   "outputs": [],
   "source": [
    "y_hat_numpy = coefficients[1] + coefficients[0] * x"
   ]
  },
  {
   "cell_type": "code",
   "execution_count": 22,
   "metadata": {},
   "outputs": [
    {
     "data": {
      "image/png": "[encoded data removed]",
      "text/plain": [
       "<Figure size 432x288 with 1 Axes>"
      ]
     },
     "metadata": {
      "needs_background": "light"
     },
     "output_type": "display_data"
    }
   ],
   "source": [
    "plt.plot(x, y_hat_numpy, 'k-',\n",
    "         x, y, 'r*')\n",
    "plt.legend(['modelo lineal','datos'], loc='best')\n",
    "plt.show()"
   ]
  },
  {
   "cell_type": "code",
   "execution_count": null,
   "metadata": {},
   "outputs": [],
   "source": [
    "## No hay una relación entre pobreza y denuncias "
   ]
  },
  {
   "cell_type": "code",
   "execution_count": null,
   "metadata": {},
   "outputs": [],
   "source": [
    "#La falta de diferencia, es decir, la pendiente casi igual a 0, puede deberse a una conjunción de factores actuando en diferentes direcciones, que son difíciles de determinar a partir de un modelo tan simple. \n",
    "#Por ejemplo, podría darse que efectivamente en las alcaldías donde la pobreza es mayor haya más violencia doméstica pero que aquí, la cantidad de denuncias que se llevan a cabo sean mejores, debido a menor autonomía de las mujeres para denunciar. \n",
    "#En cambio, podría darse que en las alcaldía más ricas, la violencia doméstica es menor, pero la proporción de denuncias mayor, dado que aquí las mujeres son más autónomas (por tener trabajo, ingresos propios, etc.).\n"
   ]
  }
 ],
 "metadata": {
  "kernelspec": {
   "display_name": "Python 3",
   "language": "python",
   "name": "python3"
  },
  "language_info": {
   "codemirror_mode": {
    "name": "ipython",
    "version": 3
   },
   "file_extension": ".py",
   "mimetype": "text/x-python",
   "name": "python",
   "nbconvert_exporter": "python",
   "pygments_lexer": "ipython3",
   "version": "3.7.3"
  }
 },
 "nbformat": 4,
 "nbformat_minor": 2
}
