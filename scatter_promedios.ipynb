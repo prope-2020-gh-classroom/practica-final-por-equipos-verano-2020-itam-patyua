{
 "cells": [
  {
   "cell_type": "code",
   "execution_count": 1,
   "metadata": {},
   "outputs": [],
   "source": [
    "import pandas as pd\n",
    "import numpy as np\n",
    "import matplotlib.pyplot as plt\n"
   ]
  },
  {
   "cell_type": "code",
   "execution_count": 2,
   "metadata": {},
   "outputs": [
    {
     "name": "stdout",
     "output_type": "stream",
     "text": [
      " \u001b[0m\u001b[01;34mBases_de_datos\u001b[0m/   Minimos_cuadrados_denuncias.ipynb   scatter_promedios.ipynb\n",
      " LICENSE           ModelitoPFinal.ipynb\n",
      "'Link base'        README.md\n"
     ]
    }
   ],
   "source": [
    "ls"
   ]
  },
  {
   "cell_type": "code",
   "execution_count": 3,
   "metadata": {},
   "outputs": [
    {
     "name": "stdout",
     "output_type": "stream",
     "text": [
      "/home/jovyan/midirectorio/Bases_de_datos\n"
     ]
    }
   ],
   "source": [
    "cd Bases_de_datos"
   ]
  },
  {
   "cell_type": "code",
   "execution_count": 4,
   "metadata": {},
   "outputs": [
    {
     "name": "stdout",
     "output_type": "stream",
     "text": [
      "Bases_de_datos_modificadas_violencia.ipynb  denuncias_2016_2019_cada_100mil.csv\n",
      "Denuncias_por_alcaldia.csv                  denuncias_al_anio.csv\n",
      "Promedio_denuncias_alcaldia.csv             denuncias_mensuales.csv\n",
      "README.md                                   viol_numero_denuncias_ok.csv\n",
      "denuncias_2016_2019.csv\n"
     ]
    }
   ],
   "source": [
    "ls"
   ]
  },
  {
   "cell_type": "code",
   "execution_count": 5,
   "metadata": {},
   "outputs": [],
   "source": [
    "data = pd.read_csv(\"viol_numero_denuncias_ok.csv\") "
   ]
  },
  {
   "cell_type": "code",
   "execution_count": 6,
   "metadata": {},
   "outputs": [],
   "source": [
    "promedios=pd.read_csv(\"Promedio_denuncias_alcaldia.csv\")"
   ]
  },
  {
   "cell_type": "code",
   "execution_count": 7,
   "metadata": {},
   "outputs": [
    {
     "name": "stdout",
     "output_type": "stream",
     "text": [
      "   Unnamed: 0  anio               alcaldia  numero_denuncias  \\\n",
      "0           0  2016         ALVARO OBREGON              1330   \n",
      "1           1  2016           AZCAPOTZALCO               794   \n",
      "2           2  2016          BENITO JUAREZ               729   \n",
      "3           3  2016               COYOACAN              1276   \n",
      "4           4  2016  CUAJIMALPA DE MORELOS               280   \n",
      "5           5  2016             CUAUHTEMOC              1521   \n",
      "6           6  2016       GUSTAVO A MADERO              1934   \n",
      "7           7  2016              IZTACALCO              1216   \n",
      "8           8  2016             IZTAPALAPA              3981   \n",
      "\n",
      "   promedio_mensual_denuncias  \n",
      "0                  110.833333  \n",
      "1                   66.166667  \n",
      "2                   60.750000  \n",
      "3                  106.333333  \n",
      "4                   23.333333  \n",
      "5                  126.750000  \n",
      "6                  161.166667  \n",
      "7                  101.333333  \n",
      "8                  331.750000  \n"
     ]
    }
   ],
   "source": [
    "print(promedios.head(9))"
   ]
  },
  {
   "cell_type": "code",
   "execution_count": 8,
   "metadata": {},
   "outputs": [
    {
     "data": {
      "text/plain": [
       "pandas.core.frame.DataFrame"
      ]
     },
     "execution_count": 8,
     "metadata": {},
     "output_type": "execute_result"
    }
   ],
   "source": [
    "type(promedios)"
   ]
  },
  {
   "cell_type": "code",
   "execution_count": 9,
   "metadata": {},
   "outputs": [
    {
     "data": {
      "text/plain": [
       "Index(['Unnamed: 0', 'anio', 'alcaldia', 'numero_denuncias',\n",
       "       'promedio_mensual_denuncias'],\n",
       "      dtype='object')"
      ]
     },
     "execution_count": 9,
     "metadata": {},
     "output_type": "execute_result"
    }
   ],
   "source": [
    "promedios.columns"
   ]
  },
  {
   "cell_type": "code",
   "execution_count": null,
   "metadata": {},
   "outputs": [],
   "source": []
  },
  {
   "cell_type": "code",
   "execution_count": 10,
   "metadata": {},
   "outputs": [
    {
     "data": {
      "text/html": [
       "<div>\n",
       "<style scoped>\n",
       "    .dataframe tbody tr th:only-of-type {\n",
       "        vertical-align: middle;\n",
       "    }\n",
       "\n",
       "    .dataframe tbody tr th {\n",
       "        vertical-align: top;\n",
       "    }\n",
       "\n",
       "    .dataframe thead th {\n",
       "        text-align: right;\n",
       "    }\n",
       "</style>\n",
       "<table border=\"1\" class=\"dataframe\">\n",
       "  <thead>\n",
       "    <tr style=\"text-align: right;\">\n",
       "      <th></th>\n",
       "      <th>Unnamed: 0</th>\n",
       "      <th>anio</th>\n",
       "      <th>alcaldia</th>\n",
       "      <th>numero_denuncias</th>\n",
       "      <th>promedio_mensual_denuncias</th>\n",
       "    </tr>\n",
       "  </thead>\n",
       "  <tbody>\n",
       "    <tr>\n",
       "      <th>0</th>\n",
       "      <td>0</td>\n",
       "      <td>2016</td>\n",
       "      <td>ALVARO OBREGON</td>\n",
       "      <td>1330</td>\n",
       "      <td>110.833333</td>\n",
       "    </tr>\n",
       "    <tr>\n",
       "      <th>1</th>\n",
       "      <td>1</td>\n",
       "      <td>2016</td>\n",
       "      <td>AZCAPOTZALCO</td>\n",
       "      <td>794</td>\n",
       "      <td>66.166667</td>\n",
       "    </tr>\n",
       "    <tr>\n",
       "      <th>2</th>\n",
       "      <td>2</td>\n",
       "      <td>2016</td>\n",
       "      <td>BENITO JUAREZ</td>\n",
       "      <td>729</td>\n",
       "      <td>60.750000</td>\n",
       "    </tr>\n",
       "    <tr>\n",
       "      <th>3</th>\n",
       "      <td>3</td>\n",
       "      <td>2016</td>\n",
       "      <td>COYOACAN</td>\n",
       "      <td>1276</td>\n",
       "      <td>106.333333</td>\n",
       "    </tr>\n",
       "    <tr>\n",
       "      <th>4</th>\n",
       "      <td>4</td>\n",
       "      <td>2016</td>\n",
       "      <td>CUAJIMALPA DE MORELOS</td>\n",
       "      <td>280</td>\n",
       "      <td>23.333333</td>\n",
       "    </tr>\n",
       "    <tr>\n",
       "      <th>5</th>\n",
       "      <td>5</td>\n",
       "      <td>2016</td>\n",
       "      <td>CUAUHTEMOC</td>\n",
       "      <td>1521</td>\n",
       "      <td>126.750000</td>\n",
       "    </tr>\n",
       "    <tr>\n",
       "      <th>6</th>\n",
       "      <td>6</td>\n",
       "      <td>2016</td>\n",
       "      <td>GUSTAVO A MADERO</td>\n",
       "      <td>1934</td>\n",
       "      <td>161.166667</td>\n",
       "    </tr>\n",
       "    <tr>\n",
       "      <th>7</th>\n",
       "      <td>7</td>\n",
       "      <td>2016</td>\n",
       "      <td>IZTACALCO</td>\n",
       "      <td>1216</td>\n",
       "      <td>101.333333</td>\n",
       "    </tr>\n",
       "    <tr>\n",
       "      <th>8</th>\n",
       "      <td>8</td>\n",
       "      <td>2016</td>\n",
       "      <td>IZTAPALAPA</td>\n",
       "      <td>3981</td>\n",
       "      <td>331.750000</td>\n",
       "    </tr>\n",
       "    <tr>\n",
       "      <th>9</th>\n",
       "      <td>9</td>\n",
       "      <td>2016</td>\n",
       "      <td>LA MAGDALENA CONTRERAS</td>\n",
       "      <td>602</td>\n",
       "      <td>50.166667</td>\n",
       "    </tr>\n",
       "    <tr>\n",
       "      <th>10</th>\n",
       "      <td>10</td>\n",
       "      <td>2016</td>\n",
       "      <td>MIGUEL HIDALGO</td>\n",
       "      <td>620</td>\n",
       "      <td>51.666667</td>\n",
       "    </tr>\n",
       "    <tr>\n",
       "      <th>11</th>\n",
       "      <td>11</td>\n",
       "      <td>2016</td>\n",
       "      <td>MILPA ALTA</td>\n",
       "      <td>236</td>\n",
       "      <td>19.666667</td>\n",
       "    </tr>\n",
       "    <tr>\n",
       "      <th>12</th>\n",
       "      <td>12</td>\n",
       "      <td>2016</td>\n",
       "      <td>TLAHUAC</td>\n",
       "      <td>744</td>\n",
       "      <td>62.000000</td>\n",
       "    </tr>\n",
       "    <tr>\n",
       "      <th>13</th>\n",
       "      <td>13</td>\n",
       "      <td>2016</td>\n",
       "      <td>TLALPAN</td>\n",
       "      <td>1411</td>\n",
       "      <td>117.583333</td>\n",
       "    </tr>\n",
       "    <tr>\n",
       "      <th>14</th>\n",
       "      <td>14</td>\n",
       "      <td>2016</td>\n",
       "      <td>VENUSTIANO CARRANZA</td>\n",
       "      <td>984</td>\n",
       "      <td>82.000000</td>\n",
       "    </tr>\n",
       "    <tr>\n",
       "      <th>15</th>\n",
       "      <td>15</td>\n",
       "      <td>2016</td>\n",
       "      <td>XOCHIMILCO</td>\n",
       "      <td>900</td>\n",
       "      <td>75.000000</td>\n",
       "    </tr>\n",
       "  </tbody>\n",
       "</table>\n",
       "</div>"
      ],
      "text/plain": [
       "    Unnamed: 0  anio                alcaldia  numero_denuncias  \\\n",
       "0            0  2016          ALVARO OBREGON              1330   \n",
       "1            1  2016            AZCAPOTZALCO               794   \n",
       "2            2  2016           BENITO JUAREZ               729   \n",
       "3            3  2016                COYOACAN              1276   \n",
       "4            4  2016   CUAJIMALPA DE MORELOS               280   \n",
       "5            5  2016              CUAUHTEMOC              1521   \n",
       "6            6  2016        GUSTAVO A MADERO              1934   \n",
       "7            7  2016               IZTACALCO              1216   \n",
       "8            8  2016              IZTAPALAPA              3981   \n",
       "9            9  2016  LA MAGDALENA CONTRERAS               602   \n",
       "10          10  2016          MIGUEL HIDALGO               620   \n",
       "11          11  2016              MILPA ALTA               236   \n",
       "12          12  2016                 TLAHUAC               744   \n",
       "13          13  2016                 TLALPAN              1411   \n",
       "14          14  2016     VENUSTIANO CARRANZA               984   \n",
       "15          15  2016              XOCHIMILCO               900   \n",
       "\n",
       "    promedio_mensual_denuncias  \n",
       "0                   110.833333  \n",
       "1                    66.166667  \n",
       "2                    60.750000  \n",
       "3                   106.333333  \n",
       "4                    23.333333  \n",
       "5                   126.750000  \n",
       "6                   161.166667  \n",
       "7                   101.333333  \n",
       "8                   331.750000  \n",
       "9                    50.166667  \n",
       "10                   51.666667  \n",
       "11                   19.666667  \n",
       "12                   62.000000  \n",
       "13                  117.583333  \n",
       "14                   82.000000  \n",
       "15                   75.000000  "
      ]
     },
     "execution_count": 10,
     "metadata": {},
     "output_type": "execute_result"
    }
   ],
   "source": [
    "promedios.loc[(promedios.anio==2016)]"
   ]
  },
  {
   "cell_type": "code",
   "execution_count": 11,
   "metadata": {},
   "outputs": [],
   "source": [
    "promedios_2016=promedios.loc[(promedios.anio==2016)]\n",
    "promedios_2017=promedios.loc[(promedios.anio==2017)]\n",
    "promedios_2018=promedios.loc[(promedios.anio==2018)]\n",
    "promedios_2019=promedios.loc[(promedios.anio==2019)]"
   ]
  },
  {
   "cell_type": "code",
   "execution_count": null,
   "metadata": {},
   "outputs": [],
   "source": []
  },
  {
   "cell_type": "code",
   "execution_count": 12,
   "metadata": {},
   "outputs": [
    {
     "data": {
      "text/html": [
       "<div>\n",
       "<style scoped>\n",
       "    .dataframe tbody tr th:only-of-type {\n",
       "        vertical-align: middle;\n",
       "    }\n",
       "\n",
       "    .dataframe tbody tr th {\n",
       "        vertical-align: top;\n",
       "    }\n",
       "\n",
       "    .dataframe thead th {\n",
       "        text-align: right;\n",
       "    }\n",
       "</style>\n",
       "<table border=\"1\" class=\"dataframe\">\n",
       "  <thead>\n",
       "    <tr style=\"text-align: right;\">\n",
       "      <th></th>\n",
       "      <th>Unnamed: 0</th>\n",
       "      <th>anio</th>\n",
       "      <th>alcaldia</th>\n",
       "      <th>numero_denuncias</th>\n",
       "      <th>promedio_mensual_denuncias</th>\n",
       "    </tr>\n",
       "  </thead>\n",
       "  <tbody>\n",
       "    <tr>\n",
       "      <th>0</th>\n",
       "      <td>0</td>\n",
       "      <td>2016</td>\n",
       "      <td>ALVARO OBREGON</td>\n",
       "      <td>1330</td>\n",
       "      <td>110.833333</td>\n",
       "    </tr>\n",
       "    <tr>\n",
       "      <th>1</th>\n",
       "      <td>1</td>\n",
       "      <td>2016</td>\n",
       "      <td>AZCAPOTZALCO</td>\n",
       "      <td>794</td>\n",
       "      <td>66.166667</td>\n",
       "    </tr>\n",
       "    <tr>\n",
       "      <th>2</th>\n",
       "      <td>2</td>\n",
       "      <td>2016</td>\n",
       "      <td>BENITO JUAREZ</td>\n",
       "      <td>729</td>\n",
       "      <td>60.750000</td>\n",
       "    </tr>\n",
       "    <tr>\n",
       "      <th>3</th>\n",
       "      <td>3</td>\n",
       "      <td>2016</td>\n",
       "      <td>COYOACAN</td>\n",
       "      <td>1276</td>\n",
       "      <td>106.333333</td>\n",
       "    </tr>\n",
       "    <tr>\n",
       "      <th>4</th>\n",
       "      <td>4</td>\n",
       "      <td>2016</td>\n",
       "      <td>CUAJIMALPA DE MORELOS</td>\n",
       "      <td>280</td>\n",
       "      <td>23.333333</td>\n",
       "    </tr>\n",
       "    <tr>\n",
       "      <th>5</th>\n",
       "      <td>5</td>\n",
       "      <td>2016</td>\n",
       "      <td>CUAUHTEMOC</td>\n",
       "      <td>1521</td>\n",
       "      <td>126.750000</td>\n",
       "    </tr>\n",
       "    <tr>\n",
       "      <th>6</th>\n",
       "      <td>6</td>\n",
       "      <td>2016</td>\n",
       "      <td>GUSTAVO A MADERO</td>\n",
       "      <td>1934</td>\n",
       "      <td>161.166667</td>\n",
       "    </tr>\n",
       "    <tr>\n",
       "      <th>7</th>\n",
       "      <td>7</td>\n",
       "      <td>2016</td>\n",
       "      <td>IZTACALCO</td>\n",
       "      <td>1216</td>\n",
       "      <td>101.333333</td>\n",
       "    </tr>\n",
       "    <tr>\n",
       "      <th>8</th>\n",
       "      <td>8</td>\n",
       "      <td>2016</td>\n",
       "      <td>IZTAPALAPA</td>\n",
       "      <td>3981</td>\n",
       "      <td>331.750000</td>\n",
       "    </tr>\n",
       "    <tr>\n",
       "      <th>9</th>\n",
       "      <td>9</td>\n",
       "      <td>2016</td>\n",
       "      <td>LA MAGDALENA CONTRERAS</td>\n",
       "      <td>602</td>\n",
       "      <td>50.166667</td>\n",
       "    </tr>\n",
       "    <tr>\n",
       "      <th>10</th>\n",
       "      <td>10</td>\n",
       "      <td>2016</td>\n",
       "      <td>MIGUEL HIDALGO</td>\n",
       "      <td>620</td>\n",
       "      <td>51.666667</td>\n",
       "    </tr>\n",
       "    <tr>\n",
       "      <th>11</th>\n",
       "      <td>11</td>\n",
       "      <td>2016</td>\n",
       "      <td>MILPA ALTA</td>\n",
       "      <td>236</td>\n",
       "      <td>19.666667</td>\n",
       "    </tr>\n",
       "    <tr>\n",
       "      <th>12</th>\n",
       "      <td>12</td>\n",
       "      <td>2016</td>\n",
       "      <td>TLAHUAC</td>\n",
       "      <td>744</td>\n",
       "      <td>62.000000</td>\n",
       "    </tr>\n",
       "    <tr>\n",
       "      <th>13</th>\n",
       "      <td>13</td>\n",
       "      <td>2016</td>\n",
       "      <td>TLALPAN</td>\n",
       "      <td>1411</td>\n",
       "      <td>117.583333</td>\n",
       "    </tr>\n",
       "    <tr>\n",
       "      <th>14</th>\n",
       "      <td>14</td>\n",
       "      <td>2016</td>\n",
       "      <td>VENUSTIANO CARRANZA</td>\n",
       "      <td>984</td>\n",
       "      <td>82.000000</td>\n",
       "    </tr>\n",
       "    <tr>\n",
       "      <th>15</th>\n",
       "      <td>15</td>\n",
       "      <td>2016</td>\n",
       "      <td>XOCHIMILCO</td>\n",
       "      <td>900</td>\n",
       "      <td>75.000000</td>\n",
       "    </tr>\n",
       "  </tbody>\n",
       "</table>\n",
       "</div>"
      ],
      "text/plain": [
       "    Unnamed: 0  anio                alcaldia  numero_denuncias  \\\n",
       "0            0  2016          ALVARO OBREGON              1330   \n",
       "1            1  2016            AZCAPOTZALCO               794   \n",
       "2            2  2016           BENITO JUAREZ               729   \n",
       "3            3  2016                COYOACAN              1276   \n",
       "4            4  2016   CUAJIMALPA DE MORELOS               280   \n",
       "5            5  2016              CUAUHTEMOC              1521   \n",
       "6            6  2016        GUSTAVO A MADERO              1934   \n",
       "7            7  2016               IZTACALCO              1216   \n",
       "8            8  2016              IZTAPALAPA              3981   \n",
       "9            9  2016  LA MAGDALENA CONTRERAS               602   \n",
       "10          10  2016          MIGUEL HIDALGO               620   \n",
       "11          11  2016              MILPA ALTA               236   \n",
       "12          12  2016                 TLAHUAC               744   \n",
       "13          13  2016                 TLALPAN              1411   \n",
       "14          14  2016     VENUSTIANO CARRANZA               984   \n",
       "15          15  2016              XOCHIMILCO               900   \n",
       "\n",
       "    promedio_mensual_denuncias  \n",
       "0                   110.833333  \n",
       "1                    66.166667  \n",
       "2                    60.750000  \n",
       "3                   106.333333  \n",
       "4                    23.333333  \n",
       "5                   126.750000  \n",
       "6                   161.166667  \n",
       "7                   101.333333  \n",
       "8                   331.750000  \n",
       "9                    50.166667  \n",
       "10                   51.666667  \n",
       "11                   19.666667  \n",
       "12                   62.000000  \n",
       "13                  117.583333  \n",
       "14                   82.000000  \n",
       "15                   75.000000  "
      ]
     },
     "execution_count": 12,
     "metadata": {},
     "output_type": "execute_result"
    }
   ],
   "source": [
    "promedios.loc[(promedios.anio==2016)]"
   ]
  },
  {
   "cell_type": "code",
   "execution_count": 13,
   "metadata": {},
   "outputs": [
    {
     "data": {
      "text/plain": [
       "pandas.core.frame.DataFrame"
      ]
     },
     "execution_count": 13,
     "metadata": {},
     "output_type": "execute_result"
    }
   ],
   "source": [
    "type(promedios_2019)"
   ]
  },
  {
   "cell_type": "code",
   "execution_count": 14,
   "metadata": {},
   "outputs": [],
   "source": [
    "array_2016=np.array(promedios_2016)\n",
    "col_2016=array_2016[:,4]\n",
    "\n",
    "array_2017=np.array(promedios_2017)\n",
    "col_2017=array_2017[:,4]\n",
    "\n",
    "array_2018=np.array(promedios_2018)\n",
    "col_2018=array_2018[:,4]\n",
    "\n",
    "array_2019=np.array(promedios_2019)\n",
    "col_2019=array_2019[:,4]\n",
    "\n",
    "\n"
   ]
  },
  {
   "cell_type": "code",
   "execution_count": 15,
   "metadata": {},
   "outputs": [
    {
     "data": {
      "text/plain": [
       "array([169.41666666666666, 104.33333333333331, 80.91666666666667,\n",
       "       135.08333333333334, 45.91666666666666, 179.5, 257.3333333333333,\n",
       "       128.58333333333334, 386.33333333333326, 75.08333333333333, 75.0,\n",
       "       34.416666666666664, 89.0, 157.58333333333334, 130.83333333333334,\n",
       "       98.66666666666669], dtype=object)"
      ]
     },
     "execution_count": 15,
     "metadata": {},
     "output_type": "execute_result"
    }
   ],
   "source": [
    "col_2019"
   ]
  },
  {
   "cell_type": "code",
   "execution_count": 16,
   "metadata": {},
   "outputs": [
    {
     "data": {
      "text/plain": [
       "numpy.ndarray"
      ]
     },
     "execution_count": 16,
     "metadata": {},
     "output_type": "execute_result"
    }
   ],
   "source": [
    "type(col_2019)"
   ]
  },
  {
   "cell_type": "code",
   "execution_count": 17,
   "metadata": {},
   "outputs": [],
   "source": [
    "alcaldia=array_2016[:,2]\n",
    "\n"
   ]
  },
  {
   "cell_type": "code",
   "execution_count": 18,
   "metadata": {},
   "outputs": [
    {
     "data": {
      "text/plain": [
       "array([110.83333333333331, 66.16666666666667, 60.75, 106.33333333333331,\n",
       "       23.33333333333333, 126.75, 161.16666666666666, 101.33333333333331,\n",
       "       331.75, 50.16666666666666, 51.66666666666666, 19.666666666666668,\n",
       "       62.0, 117.58333333333331, 82.0, 75.0], dtype=object)"
      ]
     },
     "execution_count": 18,
     "metadata": {},
     "output_type": "execute_result"
    }
   ],
   "source": [
    "col_2016"
   ]
  },
  {
   "cell_type": "code",
   "execution_count": 19,
   "metadata": {},
   "outputs": [],
   "source": [
    "prom_denuncias=pd.DataFrame(alcaldia,columns=[\"alcaldia\"])"
   ]
  },
  {
   "cell_type": "code",
   "execution_count": 20,
   "metadata": {},
   "outputs": [
    {
     "data": {
      "text/html": [
       "<div>\n",
       "<style scoped>\n",
       "    .dataframe tbody tr th:only-of-type {\n",
       "        vertical-align: middle;\n",
       "    }\n",
       "\n",
       "    .dataframe tbody tr th {\n",
       "        vertical-align: top;\n",
       "    }\n",
       "\n",
       "    .dataframe thead th {\n",
       "        text-align: right;\n",
       "    }\n",
       "</style>\n",
       "<table border=\"1\" class=\"dataframe\">\n",
       "  <thead>\n",
       "    <tr style=\"text-align: right;\">\n",
       "      <th></th>\n",
       "      <th>alcaldia</th>\n",
       "    </tr>\n",
       "  </thead>\n",
       "  <tbody>\n",
       "    <tr>\n",
       "      <th>0</th>\n",
       "      <td>ALVARO OBREGON</td>\n",
       "    </tr>\n",
       "    <tr>\n",
       "      <th>1</th>\n",
       "      <td>AZCAPOTZALCO</td>\n",
       "    </tr>\n",
       "    <tr>\n",
       "      <th>2</th>\n",
       "      <td>BENITO JUAREZ</td>\n",
       "    </tr>\n",
       "    <tr>\n",
       "      <th>3</th>\n",
       "      <td>COYOACAN</td>\n",
       "    </tr>\n",
       "    <tr>\n",
       "      <th>4</th>\n",
       "      <td>CUAJIMALPA DE MORELOS</td>\n",
       "    </tr>\n",
       "    <tr>\n",
       "      <th>5</th>\n",
       "      <td>CUAUHTEMOC</td>\n",
       "    </tr>\n",
       "    <tr>\n",
       "      <th>6</th>\n",
       "      <td>GUSTAVO A MADERO</td>\n",
       "    </tr>\n",
       "    <tr>\n",
       "      <th>7</th>\n",
       "      <td>IZTACALCO</td>\n",
       "    </tr>\n",
       "    <tr>\n",
       "      <th>8</th>\n",
       "      <td>IZTAPALAPA</td>\n",
       "    </tr>\n",
       "    <tr>\n",
       "      <th>9</th>\n",
       "      <td>LA MAGDALENA CONTRERAS</td>\n",
       "    </tr>\n",
       "  </tbody>\n",
       "</table>\n",
       "</div>"
      ],
      "text/plain": [
       "                 alcaldia\n",
       "0          ALVARO OBREGON\n",
       "1            AZCAPOTZALCO\n",
       "2           BENITO JUAREZ\n",
       "3                COYOACAN\n",
       "4   CUAJIMALPA DE MORELOS\n",
       "5              CUAUHTEMOC\n",
       "6        GUSTAVO A MADERO\n",
       "7               IZTACALCO\n",
       "8              IZTAPALAPA\n",
       "9  LA MAGDALENA CONTRERAS"
      ]
     },
     "execution_count": 20,
     "metadata": {},
     "output_type": "execute_result"
    }
   ],
   "source": [
    "prom_denuncias.head(10)"
   ]
  },
  {
   "cell_type": "code",
   "execution_count": 21,
   "metadata": {},
   "outputs": [],
   "source": [
    "prom_denuncias[\"promedio_2016\"]=col_2016\n",
    "prom_denuncias[\"promedio_2017\"]=col_2017\n",
    "prom_denuncias[\"promedio_2018\"]=col_2018\n",
    "prom_denuncias[\"promedio_2019\"]=col_2019"
   ]
  },
  {
   "cell_type": "code",
   "execution_count": 22,
   "metadata": {},
   "outputs": [
    {
     "data": {
      "text/html": [
       "<div>\n",
       "<style scoped>\n",
       "    .dataframe tbody tr th:only-of-type {\n",
       "        vertical-align: middle;\n",
       "    }\n",
       "\n",
       "    .dataframe tbody tr th {\n",
       "        vertical-align: top;\n",
       "    }\n",
       "\n",
       "    .dataframe thead th {\n",
       "        text-align: right;\n",
       "    }\n",
       "</style>\n",
       "<table border=\"1\" class=\"dataframe\">\n",
       "  <thead>\n",
       "    <tr style=\"text-align: right;\">\n",
       "      <th></th>\n",
       "      <th>alcaldia</th>\n",
       "      <th>promedio_2016</th>\n",
       "      <th>promedio_2017</th>\n",
       "      <th>promedio_2018</th>\n",
       "      <th>promedio_2019</th>\n",
       "    </tr>\n",
       "  </thead>\n",
       "  <tbody>\n",
       "    <tr>\n",
       "      <th>0</th>\n",
       "      <td>ALVARO OBREGON</td>\n",
       "      <td>110.833</td>\n",
       "      <td>102</td>\n",
       "      <td>128.583</td>\n",
       "      <td>169.417</td>\n",
       "    </tr>\n",
       "    <tr>\n",
       "      <th>1</th>\n",
       "      <td>AZCAPOTZALCO</td>\n",
       "      <td>66.1667</td>\n",
       "      <td>68.6667</td>\n",
       "      <td>76.5</td>\n",
       "      <td>104.333</td>\n",
       "    </tr>\n",
       "    <tr>\n",
       "      <th>2</th>\n",
       "      <td>BENITO JUAREZ</td>\n",
       "      <td>60.75</td>\n",
       "      <td>63.5833</td>\n",
       "      <td>70.8333</td>\n",
       "      <td>80.9167</td>\n",
       "    </tr>\n",
       "    <tr>\n",
       "      <th>3</th>\n",
       "      <td>COYOACAN</td>\n",
       "      <td>106.333</td>\n",
       "      <td>98.6667</td>\n",
       "      <td>112.083</td>\n",
       "      <td>135.083</td>\n",
       "    </tr>\n",
       "    <tr>\n",
       "      <th>4</th>\n",
       "      <td>CUAJIMALPA DE MORELOS</td>\n",
       "      <td>23.3333</td>\n",
       "      <td>24.0833</td>\n",
       "      <td>31</td>\n",
       "      <td>45.9167</td>\n",
       "    </tr>\n",
       "    <tr>\n",
       "      <th>5</th>\n",
       "      <td>CUAUHTEMOC</td>\n",
       "      <td>126.75</td>\n",
       "      <td>116.667</td>\n",
       "      <td>142.5</td>\n",
       "      <td>179.5</td>\n",
       "    </tr>\n",
       "    <tr>\n",
       "      <th>6</th>\n",
       "      <td>GUSTAVO A MADERO</td>\n",
       "      <td>161.167</td>\n",
       "      <td>169</td>\n",
       "      <td>175.5</td>\n",
       "      <td>257.333</td>\n",
       "    </tr>\n",
       "    <tr>\n",
       "      <th>7</th>\n",
       "      <td>IZTACALCO</td>\n",
       "      <td>101.333</td>\n",
       "      <td>95.75</td>\n",
       "      <td>105</td>\n",
       "      <td>128.583</td>\n",
       "    </tr>\n",
       "    <tr>\n",
       "      <th>8</th>\n",
       "      <td>IZTAPALAPA</td>\n",
       "      <td>331.75</td>\n",
       "      <td>307.5</td>\n",
       "      <td>280.083</td>\n",
       "      <td>386.333</td>\n",
       "    </tr>\n",
       "    <tr>\n",
       "      <th>9</th>\n",
       "      <td>LA MAGDALENA CONTRERAS</td>\n",
       "      <td>50.1667</td>\n",
       "      <td>57</td>\n",
       "      <td>69.4167</td>\n",
       "      <td>75.0833</td>\n",
       "    </tr>\n",
       "    <tr>\n",
       "      <th>10</th>\n",
       "      <td>MIGUEL HIDALGO</td>\n",
       "      <td>51.6667</td>\n",
       "      <td>48.75</td>\n",
       "      <td>48.5</td>\n",
       "      <td>75</td>\n",
       "    </tr>\n",
       "    <tr>\n",
       "      <th>11</th>\n",
       "      <td>MILPA ALTA</td>\n",
       "      <td>19.6667</td>\n",
       "      <td>23</td>\n",
       "      <td>28.6667</td>\n",
       "      <td>34.4167</td>\n",
       "    </tr>\n",
       "    <tr>\n",
       "      <th>12</th>\n",
       "      <td>TLAHUAC</td>\n",
       "      <td>62</td>\n",
       "      <td>66.5</td>\n",
       "      <td>75.9167</td>\n",
       "      <td>89</td>\n",
       "    </tr>\n",
       "    <tr>\n",
       "      <th>13</th>\n",
       "      <td>TLALPAN</td>\n",
       "      <td>117.583</td>\n",
       "      <td>124.417</td>\n",
       "      <td>133.5</td>\n",
       "      <td>157.583</td>\n",
       "    </tr>\n",
       "    <tr>\n",
       "      <th>14</th>\n",
       "      <td>VENUSTIANO CARRANZA</td>\n",
       "      <td>82</td>\n",
       "      <td>78.75</td>\n",
       "      <td>101.083</td>\n",
       "      <td>130.833</td>\n",
       "    </tr>\n",
       "    <tr>\n",
       "      <th>15</th>\n",
       "      <td>XOCHIMILCO</td>\n",
       "      <td>75</td>\n",
       "      <td>91.9167</td>\n",
       "      <td>81.9167</td>\n",
       "      <td>98.6667</td>\n",
       "    </tr>\n",
       "  </tbody>\n",
       "</table>\n",
       "</div>"
      ],
      "text/plain": [
       "                  alcaldia promedio_2016 promedio_2017 promedio_2018  \\\n",
       "0           ALVARO OBREGON       110.833           102       128.583   \n",
       "1             AZCAPOTZALCO       66.1667       68.6667          76.5   \n",
       "2            BENITO JUAREZ         60.75       63.5833       70.8333   \n",
       "3                 COYOACAN       106.333       98.6667       112.083   \n",
       "4    CUAJIMALPA DE MORELOS       23.3333       24.0833            31   \n",
       "5               CUAUHTEMOC        126.75       116.667         142.5   \n",
       "6         GUSTAVO A MADERO       161.167           169         175.5   \n",
       "7                IZTACALCO       101.333         95.75           105   \n",
       "8               IZTAPALAPA        331.75         307.5       280.083   \n",
       "9   LA MAGDALENA CONTRERAS       50.1667            57       69.4167   \n",
       "10          MIGUEL HIDALGO       51.6667         48.75          48.5   \n",
       "11              MILPA ALTA       19.6667            23       28.6667   \n",
       "12                 TLAHUAC            62          66.5       75.9167   \n",
       "13                 TLALPAN       117.583       124.417         133.5   \n",
       "14     VENUSTIANO CARRANZA            82         78.75       101.083   \n",
       "15              XOCHIMILCO            75       91.9167       81.9167   \n",
       "\n",
       "   promedio_2019  \n",
       "0        169.417  \n",
       "1        104.333  \n",
       "2        80.9167  \n",
       "3        135.083  \n",
       "4        45.9167  \n",
       "5          179.5  \n",
       "6        257.333  \n",
       "7        128.583  \n",
       "8        386.333  \n",
       "9        75.0833  \n",
       "10            75  \n",
       "11       34.4167  \n",
       "12            89  \n",
       "13       157.583  \n",
       "14       130.833  \n",
       "15       98.6667  "
      ]
     },
     "execution_count": 22,
     "metadata": {},
     "output_type": "execute_result"
    }
   ],
   "source": [
    "prom_denuncias"
   ]
  },
  {
   "cell_type": "code",
   "execution_count": 23,
   "metadata": {},
   "outputs": [],
   "source": [
    "x=prom_denuncias[\"promedio_2019\"]\n",
    "y=prom_denuncias[\"promedio_2018\"]\n"
   ]
  },
  {
   "cell_type": "code",
   "execution_count": 24,
   "metadata": {},
   "outputs": [
    {
     "data": {
      "text/plain": [
       "[<matplotlib.lines.Line2D at 0x7fd66c642128>]"
      ]
     },
     "execution_count": 24,
     "metadata": {},
     "output_type": "execute_result"
    },
    {
     "data": {
      "image/png": "[encoded data removed]",
      "text/plain": [
       "<Figure size 432x288 with 1 Axes>"
      ]
     },
     "metadata": {
      "needs_background": "light"
     },
     "output_type": "display_data"
    }
   ],
   "source": [
    "plt.xlabel(\"promedio_2019\");plt.ylabel(\"promedio_2018\")\n",
    "plt.plot(x, y, 'o', color='blue')\n",
    "x5=np.linspace(0,300,10000)\n",
    "y5=x5\n",
    "plt.plot(x5,y5, linestyle='-') "
   ]
  },
  {
   "cell_type": "code",
   "execution_count": 25,
   "metadata": {},
   "outputs": [
    {
     "data": {
      "text/plain": [
       "[<matplotlib.lines.Line2D at 0x7fd655bc66a0>]"
      ]
     },
     "execution_count": 25,
     "metadata": {},
     "output_type": "execute_result"
    },
    {
     "data": {
      "image/png": "[encoded data removed]",
      "text/plain": [
       "<Figure size 432x288 with 1 Axes>"
      ]
     },
     "metadata": {
      "needs_background": "light"
     },
     "output_type": "display_data"
    }
   ],
   "source": [
    "x2=prom_denuncias[\"promedio_2019\"]\n",
    "y2=prom_denuncias[\"promedio_2016\"]\n",
    "plt.xlabel(\"promedio_2019\");plt.ylabel(\"promedio_2016\")\n",
    "plt.plot(x2, y2, 'o', color='orange')\n",
    "x5=np.linspace(0,400,10000)\n",
    "y5=x5\n",
    "plt.plot(x5,y5, linestyle='-') "
   ]
  },
  {
   "cell_type": "code",
   "execution_count": 26,
   "metadata": {},
   "outputs": [
    {
     "data": {
      "text/plain": [
       "[<matplotlib.lines.Line2D at 0x7fd655b7f710>]"
      ]
     },
     "execution_count": 26,
     "metadata": {},
     "output_type": "execute_result"
    },
    {
     "data": {
      "image/png": "[encoded data removed]",
      "text/plain": [
       "<Figure size 432x288 with 1 Axes>"
      ]
     },
     "metadata": {
      "needs_background": "light"
     },
     "output_type": "display_data"
    }
   ],
   "source": [
    "x3=prom_denuncias[\"promedio_2018\"]\n",
    "y3=prom_denuncias[\"promedio_2017\"]\n",
    "plt.xlabel(\"promedio_2018\");plt.ylabel(\"promedio_2017\")\n",
    "plt.plot(x3, y3, 'o', color='black')\n",
    "x5=np.linspace(0,300,10000)\n",
    "y5=x5\n",
    "plt.plot(x5,y5, linestyle='-') "
   ]
  },
  {
   "cell_type": "markdown",
   "metadata": {},
   "source": [
    "Los datos nos muestran que las alcaldías mantuvieron la misma tendencia en el tiempo, pues se concentran en los cuadrantes uno y tres. Esto quiere decir que aquellas que tuvieron un bajo número de denuncias durante el año uno también lo tuvieron en el año dos. Asimismo, aquellas alcaldías que durante el primer año de referencia se destacaron por el elevado nivel de carpetas de investigación abiertas lo hicieron de también durante el segundo año.\n",
    "\n",
    "Nos atrevemos a usar como sinónimos denuncias y carpetas de investigaciòn debido a que en este tipo de delito la única forma de iniciar un proceso es mediante la denuncia."
   ]
  },
  {
   "cell_type": "code",
   "execution_count": null,
   "metadata": {},
   "outputs": [],
   "source": []
  }
 ],
 "metadata": {
  "kernelspec": {
   "display_name": "Python 3",
   "language": "python",
   "name": "python3"
  },
  "language_info": {
   "codemirror_mode": {
    "name": "ipython",
    "version": 3
   },
   "file_extension": ".py",
   "mimetype": "text/x-python",
   "name": "python",
   "nbconvert_exporter": "python",
   "pygments_lexer": "ipython3",
   "version": "3.6.9"
  }
 },
 "nbformat": 4,
 "nbformat_minor": 4
}
